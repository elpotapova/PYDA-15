{
 "cells": [
  {
   "cell_type": "markdown",
   "metadata": {},
   "source": [
    "***Задание 1***"
   ]
  },
  {
   "cell_type": "code",
   "execution_count": 35,
   "metadata": {},
   "outputs": [
    {
     "name": "stdout",
     "output_type": "stream",
     "text": [
      "Введите количество элементов: 10\n",
      "Массив c элементами от 10 до 0 [9 8 7 6 5 4 3 2 1 0]\n"
     ]
    }
   ],
   "source": [
    "import numpy as np\n",
    "\n",
    "num = int(input('Введите количество элементов: '))\n",
    "ar = np.arange(0, num)\n",
    "reverse_ar = ar[::-1]\n",
    "\n",
    "print(f'Массив c элементами от {n} до 0 {reverse_ar}')"
   ]
  },
  {
   "cell_type": "markdown",
   "metadata": {},
   "source": [
    "***Задание 2***"
   ]
  },
  {
   "cell_type": "code",
   "execution_count": 11,
   "metadata": {},
   "outputs": [
    {
     "name": "stdout",
     "output_type": "stream",
     "text": [
      "Введите количество элементов диагонали: 10\n",
      "[[9 0 0 0 0 0 0 0 0 0]\n",
      " [0 8 0 0 0 0 0 0 0 0]\n",
      " [0 0 7 0 0 0 0 0 0 0]\n",
      " [0 0 0 6 0 0 0 0 0 0]\n",
      " [0 0 0 0 5 0 0 0 0 0]\n",
      " [0 0 0 0 0 4 0 0 0 0]\n",
      " [0 0 0 0 0 0 3 0 0 0]\n",
      " [0 0 0 0 0 0 0 2 0 0]\n",
      " [0 0 0 0 0 0 0 0 1 0]\n",
      " [0 0 0 0 0 0 0 0 0 0]]\n",
      "Сумма значений по диагонали равна 45\n"
     ]
    }
   ],
   "source": [
    "num = int(input('Введите количество элементов диагонали: '))\n",
    "ar = np.arange(0, num)\n",
    "reverse_ar = ar[::-1]\n",
    "matrix = np.diag(reverse_ar)\n",
    "print(matrix)\n",
    "total=np.trace(matrix)\n",
    "print(f'Сумма значений по диагонали равна {total}')"
   ]
  },
  {
   "cell_type": "markdown",
   "metadata": {},
   "source": [
    "***Задание 3***"
   ]
  },
  {
   "cell_type": "code",
   "execution_count": 15,
   "metadata": {},
   "outputs": [
    {
     "name": "stdout",
     "output_type": "stream",
     "text": [
      "x = 0.4666666666666668\n",
      "y = 3.844444444444444\n",
      "z = -5.555555555555555\n"
     ]
    }
   ],
   "source": [
    "from numpy import linalg\n",
    "a = np.array([[4,2,1],[1,3,0],[0,5,4]])\n",
    "b = np.array([4,12,-3])\n",
    "result = linalg.solve(a,b)\n",
    "\n",
    "print(f'x = {result[0]}')\n",
    "print(f'y = {result[1]}')\n",
    "print(f'z = {result[2]}')"
   ]
  },
  {
   "cell_type": "markdown",
   "metadata": {},
   "source": [
    "***Задание 4***"
   ]
  },
  {
   "cell_type": "markdown",
   "metadata": {},
   "source": [
    "Имеется матрица покупок в интернет-магазине. Столбец А - ID пользователя. Остальные столбцы - количество покупок категорий товаров этим пользователем. Матрица в виде numpy array:"
   ]
  },
  {
   "cell_type": "code",
   "execution_count": 16,
   "metadata": {},
   "outputs": [],
   "source": [
    "users_stats = np.array(\n",
    "    [\n",
    "        [2, 1, 0, 0, 0, 0],\n",
    "        [1, 1, 2, 1, 0, 0],\n",
    "        [2, 0, 1, 0, 0, 0],\n",
    "        [1, 1, 2, 1, 0, 1],\n",
    "        [0, 0, 1, 2, 0, 0],\n",
    "        [0, 0, 0, 0, 0, 5],\n",
    "        [1, 0, 0, 0, 0, 0],\n",
    "        [0, 1, 1, 0, 0, 0],\n",
    "        [0, 0, 0, 1, 1, 3],\n",
    "        [1, 0, 0, 2, 1, 4]\n",
    "    ], \n",
    "    np.int32\n",
    ")"
   ]
  },
  {
   "cell_type": "markdown",
   "metadata": {},
   "source": [
    "На сайт заходит очередной посетитель, о покупках которого известно следующее:"
   ]
  },
  {
   "cell_type": "code",
   "execution_count": 22,
   "metadata": {},
   "outputs": [],
   "source": [
    "next_user_stats = np.array([0, 1, 2, 0, 0, 0])"
   ]
  },
  {
   "cell_type": "markdown",
   "metadata": {},
   "source": [
    "Найдите самого похожего пользователя. Т. е. посчитайте косинусное сходство между этим пользователем и всеми пользователями из массива user_stats"
   ]
  },
  {
   "cell_type": "code",
   "execution_count": 34,
   "metadata": {},
   "outputs": [
    {
     "name": "stdout",
     "output_type": "stream",
     "text": [
      "Наиболее похожий пользователь 8id, косинусное сходство составляет = 0.9486832980505138\n"
     ]
    }
   ],
   "source": [
    "def cosine(a, b):\n",
    "    # Формула расчета косинуса угла между векторами    \n",
    "    aLength = np.linalg.norm(a)\n",
    "    bLength = np.linalg.norm(b)\n",
    "    \n",
    "    return np.dot(a, b) / (aLength * bLength)\n",
    "#Задаем счетчики\n",
    "a = next_user_stats\n",
    "user_id = 0\n",
    "similarity = 0\n",
    "#Перебираем элементы матрицы\n",
    "for i in users_stats:\n",
    "    user_id += 1\n",
    "    b = users_stats[user_id-1]\n",
    "\n",
    "    if cosine(a, b) > similarity:\n",
    "        similarity = cosine(a, b)\n",
    "        max_id = user_id\n",
    "    \n",
    "print(f'Наиболее похожий пользователь {max_id}id, косинусное сходство составляет = {similarity}')"
   ]
  }
 ],
 "metadata": {
  "kernelspec": {
   "display_name": "Python 3",
   "language": "python",
   "name": "python3"
  },
  "language_info": {
   "codemirror_mode": {
    "name": "ipython",
    "version": 3
   },
   "file_extension": ".py",
   "mimetype": "text/x-python",
   "name": "python",
   "nbconvert_exporter": "python",
   "pygments_lexer": "ipython3",
   "version": "3.8.3"
  }
 },
 "nbformat": 4,
 "nbformat_minor": 4
}
