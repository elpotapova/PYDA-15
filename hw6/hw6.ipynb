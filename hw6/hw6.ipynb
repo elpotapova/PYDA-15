{
 "cells": [
  {
   "cell_type": "markdown",
   "metadata": {},
   "source": [
    "***Задание 1***"
   ]
  },
  {
   "cell_type": "code",
   "execution_count": 2,
   "metadata": {},
   "outputs": [
    {
     "name": "stdout",
     "output_type": "stream",
     "text": [
      "('user_id', 'category')\n",
      "('1840e0b9d4', 'Продукты')\n",
      "('4e4f90fcfb', 'Электроника')\n",
      "('afea8d72fc', 'Электроника')\n",
      "('373a6055fe', 'Бытовая техника')\n",
      "('9b2ab046f3', 'Электроника')\n",
      "('9f39d307c3', 'Электроника')\n"
     ]
    }
   ],
   "source": [
    "import json\n",
    "purchases = dict()\n",
    "with open('C:/Users/melku_000/Desktop/PYDA-15/hw6/purchase_log.txt', encoding='utf-8') as f:\n",
    "    for i, line in enumerate(f):\n",
    "        purchases.update({json.loads(line).get('user_id') : json.loads(line).get('category')})\n",
    "\n",
    "for i, item in enumerate(purchases.items()):\n",
    "    print(item)\n",
    "    if i > 5:\n",
    "        break"
   ]
  },
  {
   "cell_type": "markdown",
   "metadata": {},
   "source": [
    "***Задание 2***"
   ]
  },
  {
   "cell_type": "markdown",
   "metadata": {},
   "source": [
    "Создаем словарь из файла purchase_log.txt, содержащий 'user_id' и 'category', далее создаем файл funnel.csv с опцией записи и visit_log.csv с опцией чтения по умолчанию. Сверяем построчно visit и purchase и ищем id, присутствующий в обоих файлах и собираем пересечения в список. Список преобразуем в строку, добавляем переносы и в таком виде записываем в funnel.csv.\n"
   ]
  },
  {
   "cell_type": "code",
   "execution_count": null,
   "metadata": {},
   "outputs": [],
   "source": [
    "import json\n",
    "purchases = dict()\n",
    "with open('C:/Users/melku_000/Desktop/PYDA-15/hw6/purchase_log.txt', encoding='utf-8') as f:\n",
    "    for i, line in enumerate(f):\n",
    "        purchases.update({json.loads(line).get('user_id') : json.loads(line).get('category')})\n",
    "\n",
    "purchase = open('C:/Users/melku_000/Desktop/PYDA-15/hw6/purchase_log.txt', encoding='utf-8').readlines()\n",
    "with open('C:/Users/melku_000/Desktop/PYDA-15/hw6/funnel.csv', 'w', encoding='utf-8') as funnel: \n",
    "    with open('C:/Users/melku_000/Desktop/PYDA-15/hw6/visit_log.csv') as visit:\n",
    "        for i, visit_line in enumerate(visit):\n",
    "            for j, purchase_line in enumerate(purchase): \n",
    "                if visit_line.split(',')[0] in purchase_line: \n",
    "                    f = visit_line.strip().split(',') \n",
    "                    f.append(purchases[visit_line.split(',')[0]]) \n",
    "                    funnel.write(','.join(f) + '\\n') \n",
    "                    break\n",
    "funnel.close()"
   ]
  },
  {
   "cell_type": "code",
   "execution_count": 9,
   "metadata": {},
   "outputs": [
    {
     "name": "stdout",
     "output_type": "stream",
     "text": [
      "user_id,source,category\n",
      "\n",
      "1840e0b9d4,other,Продукты\n",
      "\n",
      "4e4f90fcfb,context,Электроника\n",
      "\n",
      "afea8d72fc,other,Электроника\n",
      "\n",
      "2824221f38,email,Продукты\n",
      "\n"
     ]
    }
   ],
   "source": [
    "with open('funnel.csv', 'r', encoding='utf-8') as funnel:\n",
    "    for a in range(5):\n",
    "        print(next(funnel))"
   ]
  }
 ],
 "metadata": {
  "kernelspec": {
   "display_name": "Python 3",
   "language": "python",
   "name": "python3"
  },
  "language_info": {
   "codemirror_mode": {
    "name": "ipython",
    "version": 3
   },
   "file_extension": ".py",
   "mimetype": "text/x-python",
   "name": "python",
   "nbconvert_exporter": "python",
   "pygments_lexer": "ipython3",
   "version": "3.8.3"
  }
 },
 "nbformat": 4,
 "nbformat_minor": 4
}
