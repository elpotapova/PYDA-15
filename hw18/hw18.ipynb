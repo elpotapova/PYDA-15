{
 "cells": [
  {
   "cell_type": "markdown",
   "metadata": {},
   "source": [
    "Смоделировать игру против лотерейного автомата типа “777”. Игрок платит 1 руб., после чего выпадает случайное целое число, равномерно распределенное от 0 до 999. При некоторых значениях числа игрок получает выигрыш"
   ]
  },
  {
   "cell_type": "markdown",
   "metadata": {},
   "source": [
    "* 777: 200 руб.\n",
    "* 999: 100 руб.\n",
    "* 555: 50 руб.\n",
    "* 333: 15 руб.\n",
    "* 111: 10 руб.\n",
    "* *77: 5 руб.\n",
    "* **7: 3 руб.\n",
    "* *00: 2 руб.\n",
    "* **0: 1 руб.\n",
    "\n",
    "\"*\" любая цифра"
   ]
  },
  {
   "cell_type": "code",
   "execution_count": 1,
   "metadata": {},
   "outputs": [],
   "source": [
    "import numpy as np"
   ]
  },
  {
   "cell_type": "markdown",
   "metadata": {},
   "source": [
    "Проведем 10000000 игр, каждая попытка стоит нам 1руб"
   ]
  },
  {
   "cell_type": "code",
   "execution_count": 5,
   "metadata": {},
   "outputs": [
    {
     "name": "stdout",
     "output_type": "stream",
     "text": [
      "вероятность выигрыша составила 0.8018304, получено -0.2 руб с 1руб\n"
     ]
    }
   ],
   "source": [
    "trials = 10000000\n",
    "success = 0\n",
    "for i in range(trials):\n",
    "    random_score = np.random.randint(0,1000)\n",
    "    if random_score == 777:\n",
    "        success += 200\n",
    "    elif random_score == 999:\n",
    "        success += 100\n",
    "    elif random_score == 555:\n",
    "        success += 50\n",
    "    elif random_score == 333:\n",
    "        success += 15\n",
    "    elif random_score == 111:\n",
    "        success += 10\n",
    "    elif (random_score - 77) % 100 == 0:\n",
    "        success += 5\n",
    "    elif (random_score - 7) % 10 == 0:\n",
    "        success += 3\n",
    "    elif random_score % 100 == 0:\n",
    "        success += 2\n",
    "    elif random_score % 10 == 0 and random_score % 100 != 0:\n",
    "        success += 1       \n",
    "p_monte_carlo = success / trials\n",
    "profit = (success - trials) / trials\n",
    "print(f'вероятность выигрыша составила {p_monte_carlo}, получено {round((profit), 2)} руб с 1руб')"
   ]
  },
  {
   "cell_type": "markdown",
   "metadata": {},
   "source": [
    "Теоретически рассчитать средний выигрыш (проигрыш) и сравнить с результатами моделирования"
   ]
  },
  {
   "cell_type": "code",
   "execution_count": 9,
   "metadata": {},
   "outputs": [
    {
     "name": "stdout",
     "output_type": "stream",
     "text": [
      "Теоретически рассчитанный выигрыш на каждый потраченный 1руб. составит: 0.8 руб.\n"
     ]
    }
   ],
   "source": [
    "print(f'Теоретически рассчитанный выигрыш на каждый потраченный 1руб. составит: \\\n",
    "{(200 * 1 + 100 * 1 + 50 * 1 + 15 * 1 + 10 * 1 + 5 * 9 + 3 * 90 + 2 * 10 + 1 * 90) / 1000} руб.')"
   ]
  }
 ],
 "metadata": {
  "kernelspec": {
   "display_name": "Python 3",
   "language": "python",
   "name": "python3"
  },
  "language_info": {
   "codemirror_mode": {
    "name": "ipython",
    "version": 3
   },
   "file_extension": ".py",
   "mimetype": "text/x-python",
   "name": "python",
   "nbconvert_exporter": "python",
   "pygments_lexer": "ipython3",
   "version": "3.8.3"
  }
 },
 "nbformat": 4,
 "nbformat_minor": 4
}
