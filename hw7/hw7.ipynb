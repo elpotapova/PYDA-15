{
 "cells": [
  {
   "cell_type": "markdown",
   "metadata": {},
   "source": [
    "***Задание 1***"
   ]
  },
  {
   "cell_type": "markdown",
   "metadata": {},
   "source": [
    "Печатные газеты использовали свой формат дат для каждого выпуска.\n",
    "Для каждой газеты из списка напишите формат указанной даты для перевода в объект datetime:\n",
    "- The Moscow Times - Wednesday, October 2, 2002\n",
    "- The Guardian - Friday, 11.10.13\n",
    "- Daily News - Thursday, 18 August 1977"
   ]
  },
  {
   "cell_type": "code",
   "execution_count": 1,
   "metadata": {},
   "outputs": [
    {
     "name": "stdout",
     "output_type": "stream",
     "text": [
      "The Moscow Times - 2002-10-02 00:00:00\n",
      "The Guardian - 2013-10-11 00:00:00\n",
      "Daily News - 1977-08-18 00:00:00\n"
     ]
    }
   ],
   "source": [
    "from datetime import datetime\n",
    "TheMT = 'Wednesday, October 2, 2002'\n",
    "date1 = datetime.strptime(TheMT, '%A, %B %d, %Y')\n",
    "TheG = 'Friday, 11.10.13'\n",
    "date2 = datetime.strptime(TheG, '%A, %d.%m.%y')\n",
    "DN = 'Thursday, 18 August 1977'\n",
    "date3 = datetime.strptime(DN, '%A, %d %B %Y')\n",
    "print(f'The Moscow Times - {date1}')\n",
    "print(f'The Guardian - {date2}')\n",
    "print(f'Daily News - {date3}')"
   ]
  },
  {
   "cell_type": "markdown",
   "metadata": {},
   "source": [
    "***Задание 2***"
   ]
  },
  {
   "cell_type": "markdown",
   "metadata": {},
   "source": [
    "Дан поток дат в формате YYYY-MM-DD, в которых встречаются некорректные значения:\n",
    "stream = [‘2018-04-02’, ‘2018-02-29’, ‘2018-19-02’]\n",
    "Напишите функцию, которая проверяет эти даты на корректность. \n",
    "Т. е. для каждой даты возвращает True (дата корректна) или False (некорректная дата)."
   ]
  },
  {
   "cell_type": "code",
   "execution_count": 7,
   "metadata": {},
   "outputs": [
    {
     "name": "stdout",
     "output_type": "stream",
     "text": [
      "2018-04-02 00:00:00 True\n",
      "2018-02-29 False\n",
      "2018-19-02 False\n"
     ]
    }
   ],
   "source": [
    "stream = ['2018-04-02', '2018-02-29', '2018-19-02']\n",
    "\n",
    "from datetime import datetime\n",
    "for date in stream:\n",
    "    try:\n",
    "        date = datetime.strptime (date, '%Y-%m-%d')\n",
    "        print (date, 'True')\n",
    "    except ValueError:\n",
    "        print (date, 'False')"
   ]
  },
  {
   "cell_type": "markdown",
   "metadata": {},
   "source": [
    "***Задание 3***"
   ]
  },
  {
   "cell_type": "markdown",
   "metadata": {},
   "source": [
    " Напишите функцию date_range, которая возвращает список дат за период от start_date до end_date.\n",
    "Даты должны вводиться в формате YYYY-MM-DD. В случае неверного формата или при start_date > end_date \n",
    "должен возвращаться пустой список."
   ]
  },
  {
   "cell_type": "code",
   "execution_count": 17,
   "metadata": {},
   "outputs": [
    {
     "name": "stdout",
     "output_type": "stream",
     "text": [
      "Введите дату начала в формате YYYY-MM-DD 2020-10-31\n",
      "Введите дату конца в формате YYYY-MM-DD 2020-11-02\n",
      "2020-10-31\n",
      "2020-11-01\n",
      "2020-11-02\n"
     ]
    }
   ],
   "source": [
    "from datetime import timedelta\n",
    "\n",
    "def date_range():\n",
    "    try:\n",
    "        start_date = input('Введите начальную дату в формате YYYY-MM-DD ')\n",
    "        end_date = input('Введите конечную дату в формате YYYY-MM-DD ')        \n",
    "        start = datetime.strptime(start_date, '%Y-%m-%d')\n",
    "        end = datetime.strptime(end_date, '%Y-%m-%d')\n",
    "        current_date = start\n",
    "        if start > end:\n",
    "            print([])\n",
    "        else:\n",
    "            while current_date <= end:\n",
    "                print(current_date.strftime('%Y-%m-%d'))\n",
    "                current_date += timedelta(days=1)   \n",
    "    except:\n",
    "        print([])\n",
    "        \n",
    "date_range()"
   ]
  }
 ],
 "metadata": {
  "kernelspec": {
   "display_name": "Python 3",
   "language": "python",
   "name": "python3"
  },
  "language_info": {
   "codemirror_mode": {
    "name": "ipython",
    "version": 3
   },
   "file_extension": ".py",
   "mimetype": "text/x-python",
   "name": "python",
   "nbconvert_exporter": "python",
   "pygments_lexer": "ipython3",
   "version": "3.8.3"
  }
 },
 "nbformat": 4,
 "nbformat_minor": 4
}
