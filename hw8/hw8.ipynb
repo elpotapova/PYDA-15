{
 "cells": [
  {
   "cell_type": "markdown",
   "metadata": {},
   "source": [
    "***Задание 1***"
   ]
  },
  {
   "cell_type": "markdown",
   "metadata": {},
   "source": [
    "Напишите функцию, которая возвращает название валюты (поле ‘Name’) с максимальным значением курса с помощью сервиса https://www.cbr-xml-daily.ru/daily_json.js"
   ]
  },
  {
   "cell_type": "code",
   "execution_count": 4,
   "metadata": {},
   "outputs": [
    {
     "data": {
      "text/plain": [
       "'СДР (специальные права заимствования)'"
      ]
     },
     "execution_count": 4,
     "metadata": {},
     "output_type": "execute_result"
    }
   ],
   "source": [
    "import requests\n",
    "\n",
    "def max_currency():\n",
    "    self = requests.get('https://www.cbr-xml-daily.ru/daily_json.js')\n",
    "    self.r = self.json()['Valute']\n",
    "    max_value = []\n",
    "    for currency, value in self.r.items():\n",
    "        curr_value = max_value.append((value['Name'], value['Value']/value['Nominal']))\n",
    "    max_value.sort(key=lambda curr: curr[1], reverse = True)\n",
    "    return (max_value[0][0])\n",
    "        \n",
    "max_currency()"
   ]
  },
  {
   "cell_type": "markdown",
   "metadata": {},
   "source": [
    "***Задание 2***"
   ]
  },
  {
   "cell_type": "markdown",
   "metadata": {},
   "source": [
    "Добавьте в класс Rate параметр diff (со значениями True или False), который в случае значения True в методах курсов валют (eur, usd итд) будет возвращать не курс валюты, а изменение по сравнению в прошлым значением. Считайте, self.diff будет принимать значение True только при возврате значения курса. При отображении всей информации о валюте он не используется."
   ]
  },
  {
   "cell_type": "code",
   "execution_count": 21,
   "metadata": {},
   "outputs": [],
   "source": [
    "class Rate:\n",
    "    def __init__(self, format_='value', diff = False):\n",
    "        self.format = format_\n",
    "        self.diff = diff\n",
    "    \n",
    "    def exchange_rates(self):\n",
    "        \n",
    "        self.r = requests.get('https://www.cbr-xml-daily.ru/daily_json.js')\n",
    "        return self.r.json()['Valute']\n",
    "    \n",
    "    def make_format(self, currency):\n",
    "        \n",
    "        response = self.exchange_rates()\n",
    "        \n",
    "        if currency in response:\n",
    "            if self.format == 'full':\n",
    "                return response[currency]\n",
    "            \n",
    "            if self.format == 'value':\n",
    "                if self.diff:\n",
    "                    return response[currency]['Value'] - response[currency]['Previous']\n",
    "                else:\n",
    "                    return response[currency]['Value']\n",
    "        \n",
    "        return 'Error'\n",
    "    \n",
    "    def eur(self):\n",
    "        \"\"\"Возвращает курс евро на сегодня в формате self.format\"\"\"\n",
    "        return self.make_format('EUR')\n",
    "    \n",
    "    def usd(self):\n",
    "        \"\"\"Возвращает курс доллара на сегодня в формате self.format\"\"\"\n",
    "        return self.make_format('USD')\n",
    "    \n",
    "    def brl(self):\n",
    "        \"\"\"Возвращает курс бразильского реала на сегодня в формате self.format\"\"\"\n",
    "        return self.make_format('BRL')\n"
   ]
  },
  {
   "cell_type": "code",
   "execution_count": 29,
   "metadata": {},
   "outputs": [],
   "source": [
    "r = Rate(diff = True)"
   ]
  },
  {
   "cell_type": "code",
   "execution_count": 30,
   "metadata": {},
   "outputs": [
    {
     "data": {
      "text/plain": [
       "-0.41"
      ]
     },
     "execution_count": 30,
     "metadata": {},
     "output_type": "execute_result"
    }
   ],
   "source": [
    "round(r.eur(), 2)"
   ]
  },
  {
   "cell_type": "markdown",
   "metadata": {},
   "source": [
    "***Задание 3***"
   ]
  },
  {
   "cell_type": "markdown",
   "metadata": {},
   "source": [
    "Напишите класс Designer, который учитывает количество международных премий. Подсказки в коде занятия в разделе “Домашнее задание задача 3”. Повышение на 1 грейд за каждые 7 баллов. Получение международной премии – это +2 балла"
   ]
  },
  {
   "cell_type": "code",
   "execution_count": 31,
   "metadata": {},
   "outputs": [
    {
     "name": "stdout",
     "output_type": "stream",
     "text": [
      "Виктор 1\n",
      "Виктор 1\n",
      "Виктор 1\n",
      "Виктор 1\n",
      "Виктор 2\n",
      "Виктор 2\n",
      "Виктор 2\n",
      "Виктор 2\n",
      "Виктор 2\n",
      "Виктор 2\n",
      "Виктор 2\n",
      "Виктор 3\n",
      "Виктор 3\n",
      "Виктор 3\n",
      "Виктор 3\n",
      "Виктор 3\n",
      "Виктор 3\n",
      "Виктор 3\n",
      "Виктор 4\n",
      "Виктор 4\n"
     ]
    }
   ],
   "source": [
    "class Employee:\n",
    "    def __init__(self, name, seniority):\n",
    "        self.name = name\n",
    "        self.seniority = seniority\n",
    "        self.grade = 1\n",
    "    \n",
    "    def grade_up(self):\n",
    "        \"\"\"Повышает уровень сотрудника\"\"\"\n",
    "        self.grade += 1\n",
    "    \n",
    "    def publish_grade(self):\n",
    "        \"\"\"Публикация результатов аккредитации сотрудников\"\"\"\n",
    "        print(self.name, self.grade)\n",
    "    \n",
    "    def check_if_it_is_time_for_upgrade(self):\n",
    "        pass\n",
    "    \n",
    "        \"\"\"Наследуем класс Employee\"\"\"    \n",
    "class Designer(Employee):\n",
    "    def __init__(self, name, seniority, rewards):\n",
    "        super().__init__(name, seniority)\n",
    "        self.rewards = rewards\n",
    "    \n",
    "    def check_if_it_is_time_for_upgrade(self):\n",
    "        \"\"\"Каждая ступень аккредитации +1 к счетчику, премии – это +2 балла \"\"\"\n",
    "       \n",
    "        self.seniority += 1\n",
    "        total_points = 1 + 2*self.rewards\n",
    "        while total_points > 0:\n",
    "            self.seniority += 1\n",
    "            total_points -= 1\n",
    "            self.rewards = 0\n",
    "            \n",
    "        \"\"\"1 грейд за каждые 7 баллов\"\"\"\n",
    "        \n",
    "        if self.seniority % 7 == 0:\n",
    "            self.grade_up()\n",
    "        \n",
    "        return self.publish_grade()\n",
    "\n",
    "victor = Designer('Виктор', seniority = 0, rewards = 2)\n",
    "\n",
    "for i in range(20):\n",
    "    victor.check_if_it_is_time_for_upgrade()"
   ]
  }
 ],
 "metadata": {
  "kernelspec": {
   "display_name": "Python 3",
   "language": "python",
   "name": "python3"
  },
  "language_info": {
   "codemirror_mode": {
    "name": "ipython",
    "version": 3
   },
   "file_extension": ".py",
   "mimetype": "text/x-python",
   "name": "python",
   "nbconvert_exporter": "python",
   "pygments_lexer": "ipython3",
   "version": "3.8.3"
  }
 },
 "nbformat": 4,
 "nbformat_minor": 4
}
