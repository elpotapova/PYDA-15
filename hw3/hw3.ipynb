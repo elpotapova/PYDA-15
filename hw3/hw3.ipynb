{
 "cells": [
  {
   "cell_type": "markdown",
   "metadata": {},
   "source": [
    "***Задание 1***"
   ]
  },
  {
   "cell_type": "code",
   "execution_count": 16,
   "metadata": {},
   "outputs": [
    {
     "name": "stdout",
     "output_type": "stream",
     "text": [
      "Word: test\n",
      "es\n"
     ]
    }
   ],
   "source": [
    "wrd = input(str(\"Word: \"))\n",
    "\n",
    "if len(wrd) % 2:\n",
    "    print(wrd[int(len(wrd) / 2)])\n",
    "else:\n",
    "    print(wrd[int(len(wrd) / 2 - 1):int(len(wrd) / 2) + 1])"
   ]
  },
  {
   "cell_type": "markdown",
   "metadata": {},
   "source": [
    "***Задание 2***"
   ]
  },
  {
   "cell_type": "code",
   "execution_count": 42,
   "metadata": {},
   "outputs": [
    {
     "name": "stdout",
     "output_type": "stream",
     "text": [
      "Введите число: 1\n",
      "Введите число: 2\n",
      "Введите число: 3\n",
      "Введите число: 0\n",
      "Результат: 6\n"
     ]
    }
   ],
   "source": [
    "sum_ = 0;\n",
    "num = int(input(\"Введите число: \"))\n",
    "sum_ += num;\n",
    "while num != 0:\n",
    "  num = int(input(\"Введите число: \"))\n",
    "  sum_ += num;\n",
    "print('Результат: ' + str(sum_))"
   ]
  },
  {
   "cell_type": "markdown",
   "metadata": {},
   "source": [
    "***Задание 3***"
   ]
  },
  {
   "cell_type": "code",
   "execution_count": 39,
   "metadata": {},
   "outputs": [
    {
     "name": "stdout",
     "output_type": "stream",
     "text": [
      "Идеальные пары:\n",
      "Alex и Emma\n",
      "Arthur и Kate\n",
      "John и Kira\n",
      "Peter и Liza\n",
      "Richard и Trisha\n"
     ]
    }
   ],
   "source": [
    "boys = ['Peter', 'Alex', 'John', 'Arthur', 'Richard']\n",
    "boys.sort()\n",
    "\n",
    "girls = ['Kate', 'Liza', 'Kira', 'Emma', 'Trisha']\n",
    "girls.sort()\n",
    "\n",
    "if len(boys) == len(girls):\n",
    "    print('Идеальные пары:')\n",
    "    for boy, girl in zip(boys, girls):\n",
    "        print(boy, 'и', girl)  \n",
    "else:\n",
    "    print('Внимание, кто-то может остаться без пары!')"
   ]
  },
  {
   "cell_type": "code",
   "execution_count": 40,
   "metadata": {},
   "outputs": [
    {
     "name": "stdout",
     "output_type": "stream",
     "text": [
      "Внимание, кто-то может остаться без пары!\n"
     ]
    }
   ],
   "source": [
    "boys = ['Peter', 'Alex', 'John', 'Arthur', 'Richard','Michael']\n",
    "boys.sort()\n",
    "\n",
    "girls = ['Kate', 'Liza', 'Kira', 'Emma', 'Trisha']\n",
    "girls.sort()\n",
    "\n",
    "if len(boys) == len(girls):\n",
    "    print('Идеальные пары:')\n",
    "    for boy, girl in zip(boys, girls):\n",
    "        print(boy, 'и', girl)  \n",
    "else:\n",
    "    print('Внимание, кто-то может остаться без пары!')"
   ]
  },
  {
   "cell_type": "markdown",
   "metadata": {},
   "source": [
    "***Задание 4***"
   ]
  },
  {
   "cell_type": "code",
   "execution_count": 38,
   "metadata": {},
   "outputs": [
    {
     "name": "stdout",
     "output_type": "stream",
     "text": [
      "Средняя температура в странах:\n",
      "Thailand - 23.9 С\n",
      "Germany - 13.8 С\n",
      "Russia - 3.7 С\n",
      "Poland - 12.0 С\n"
     ]
    }
   ],
   "source": [
    "countries_temperature = [\n",
    "    ['Thailand', [75.2, 77, 78.8, 73.4, 68, 75.2, 77]],\n",
    "    ['Germany', [57.2, 55.4, 59, 59, 53.6]],\n",
    "    ['Russia', [35.6, 37.4, 39.2, 41, 42.8, 39.2, 35.6]],\n",
    "    ['Poland', [50, 50, 53.6, 57.2, 55.4, 55.4]]\n",
    "]\n",
    "\n",
    "print(\"Средняя температура в странах:\")\n",
    "\n",
    "for country_info, temp in countries_temperature:\n",
    "    print(country_info[:],'-', round(((sum(temp[:]) / len(temp[:]) - 32) * 5 / 9), 1),'С')"
   ]
  }
 ],
 "metadata": {
  "kernelspec": {
   "display_name": "Python 3",
   "language": "python",
   "name": "python3"
  },
  "language_info": {
   "codemirror_mode": {
    "name": "ipython",
    "version": 3
   },
   "file_extension": ".py",
   "mimetype": "text/x-python",
   "name": "python",
   "nbconvert_exporter": "python",
   "pygments_lexer": "ipython3",
   "version": "3.8.3"
  }
 },
 "nbformat": 4,
 "nbformat_minor": 4
}
