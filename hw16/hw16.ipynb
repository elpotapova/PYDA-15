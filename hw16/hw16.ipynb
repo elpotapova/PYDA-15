{
 "cells": [
  {
   "cell_type": "markdown",
   "metadata": {},
   "source": [
    "***Задание 1. Базовое изучение***\n",
    "\n",
    "Изучить представленный набор данных на основе описания его столбцов и выбрать 8 столбцов для дальнейшего изучения (среди них должны быть как числовые, так и категориальные). Провести расчет базовых метрик для них, кратко описать результаты."
   ]
  },
  {
   "cell_type": "code",
   "execution_count": 2,
   "metadata": {},
   "outputs": [],
   "source": [
    "import pandas as pd\n",
    "import numpy as np"
   ]
  },
  {
   "cell_type": "markdown",
   "metadata": {},
   "source": [
    "Открываем датасет, изучаем описание его столбцов, называем столбцы согласно описанию"
   ]
  },
  {
   "cell_type": "code",
   "execution_count": 3,
   "metadata": {},
   "outputs": [
    {
     "data": {
      "text/html": [
       "<div>\n",
       "<style scoped>\n",
       "    .dataframe tbody tr th:only-of-type {\n",
       "        vertical-align: middle;\n",
       "    }\n",
       "\n",
       "    .dataframe tbody tr th {\n",
       "        vertical-align: top;\n",
       "    }\n",
       "\n",
       "    .dataframe thead th {\n",
       "        text-align: right;\n",
       "    }\n",
       "</style>\n",
       "<table border=\"1\" class=\"dataframe\">\n",
       "  <thead>\n",
       "    <tr style=\"text-align: right;\">\n",
       "      <th></th>\n",
       "      <th>surgery</th>\n",
       "      <th>age</th>\n",
       "      <th>case_number</th>\n",
       "      <th>rectal_temperature</th>\n",
       "      <th>pulse</th>\n",
       "      <th>respiratory_rate</th>\n",
       "      <th>temperature_of_extremities</th>\n",
       "      <th>peripheral_pulse</th>\n",
       "      <th>mucous_membranes</th>\n",
       "      <th>capillary_refill_time</th>\n",
       "      <th>...</th>\n",
       "      <th>packed_cell_volume</th>\n",
       "      <th>total_protein</th>\n",
       "      <th>abdominocentesis_appearance</th>\n",
       "      <th>abdomcentesis_total_protein</th>\n",
       "      <th>outcome</th>\n",
       "      <th>surgical_lesion</th>\n",
       "      <th>type_of_lesion_25</th>\n",
       "      <th>type_of_lesion_26</th>\n",
       "      <th>type_of_lesion_27</th>\n",
       "      <th>cp_data</th>\n",
       "    </tr>\n",
       "  </thead>\n",
       "  <tbody>\n",
       "    <tr>\n",
       "      <th>0</th>\n",
       "      <td>2.0</td>\n",
       "      <td>1</td>\n",
       "      <td>530101</td>\n",
       "      <td>38.5</td>\n",
       "      <td>66.0</td>\n",
       "      <td>28.0</td>\n",
       "      <td>3.0</td>\n",
       "      <td>3.0</td>\n",
       "      <td>NaN</td>\n",
       "      <td>2.0</td>\n",
       "      <td>...</td>\n",
       "      <td>45.0</td>\n",
       "      <td>8.4</td>\n",
       "      <td>NaN</td>\n",
       "      <td>NaN</td>\n",
       "      <td>2.0</td>\n",
       "      <td>2</td>\n",
       "      <td>11300</td>\n",
       "      <td>0</td>\n",
       "      <td>0</td>\n",
       "      <td>2</td>\n",
       "    </tr>\n",
       "    <tr>\n",
       "      <th>1</th>\n",
       "      <td>1.0</td>\n",
       "      <td>1</td>\n",
       "      <td>534817</td>\n",
       "      <td>39.2</td>\n",
       "      <td>88.0</td>\n",
       "      <td>20.0</td>\n",
       "      <td>NaN</td>\n",
       "      <td>NaN</td>\n",
       "      <td>4.0</td>\n",
       "      <td>1.0</td>\n",
       "      <td>...</td>\n",
       "      <td>50.0</td>\n",
       "      <td>85.0</td>\n",
       "      <td>2.0</td>\n",
       "      <td>2.0</td>\n",
       "      <td>3.0</td>\n",
       "      <td>2</td>\n",
       "      <td>2208</td>\n",
       "      <td>0</td>\n",
       "      <td>0</td>\n",
       "      <td>2</td>\n",
       "    </tr>\n",
       "    <tr>\n",
       "      <th>2</th>\n",
       "      <td>2.0</td>\n",
       "      <td>1</td>\n",
       "      <td>530334</td>\n",
       "      <td>38.3</td>\n",
       "      <td>40.0</td>\n",
       "      <td>24.0</td>\n",
       "      <td>1.0</td>\n",
       "      <td>1.0</td>\n",
       "      <td>3.0</td>\n",
       "      <td>1.0</td>\n",
       "      <td>...</td>\n",
       "      <td>33.0</td>\n",
       "      <td>6.7</td>\n",
       "      <td>NaN</td>\n",
       "      <td>NaN</td>\n",
       "      <td>1.0</td>\n",
       "      <td>2</td>\n",
       "      <td>0</td>\n",
       "      <td>0</td>\n",
       "      <td>0</td>\n",
       "      <td>1</td>\n",
       "    </tr>\n",
       "    <tr>\n",
       "      <th>3</th>\n",
       "      <td>1.0</td>\n",
       "      <td>9</td>\n",
       "      <td>5290409</td>\n",
       "      <td>39.1</td>\n",
       "      <td>164.0</td>\n",
       "      <td>84.0</td>\n",
       "      <td>4.0</td>\n",
       "      <td>1.0</td>\n",
       "      <td>6.0</td>\n",
       "      <td>2.0</td>\n",
       "      <td>...</td>\n",
       "      <td>48.0</td>\n",
       "      <td>7.2</td>\n",
       "      <td>3.0</td>\n",
       "      <td>5.3</td>\n",
       "      <td>2.0</td>\n",
       "      <td>1</td>\n",
       "      <td>2208</td>\n",
       "      <td>0</td>\n",
       "      <td>0</td>\n",
       "      <td>1</td>\n",
       "    </tr>\n",
       "    <tr>\n",
       "      <th>4</th>\n",
       "      <td>2.0</td>\n",
       "      <td>1</td>\n",
       "      <td>530255</td>\n",
       "      <td>37.3</td>\n",
       "      <td>104.0</td>\n",
       "      <td>35.0</td>\n",
       "      <td>NaN</td>\n",
       "      <td>NaN</td>\n",
       "      <td>6.0</td>\n",
       "      <td>2.0</td>\n",
       "      <td>...</td>\n",
       "      <td>74.0</td>\n",
       "      <td>7.4</td>\n",
       "      <td>NaN</td>\n",
       "      <td>NaN</td>\n",
       "      <td>2.0</td>\n",
       "      <td>2</td>\n",
       "      <td>4300</td>\n",
       "      <td>0</td>\n",
       "      <td>0</td>\n",
       "      <td>2</td>\n",
       "    </tr>\n",
       "  </tbody>\n",
       "</table>\n",
       "<p>5 rows × 28 columns</p>\n",
       "</div>"
      ],
      "text/plain": [
       "   surgery  age  case_number  rectal_temperature  pulse  respiratory_rate  \\\n",
       "0      2.0    1       530101                38.5   66.0              28.0   \n",
       "1      1.0    1       534817                39.2   88.0              20.0   \n",
       "2      2.0    1       530334                38.3   40.0              24.0   \n",
       "3      1.0    9      5290409                39.1  164.0              84.0   \n",
       "4      2.0    1       530255                37.3  104.0              35.0   \n",
       "\n",
       "   temperature_of_extremities  peripheral_pulse  mucous_membranes  \\\n",
       "0                         3.0               3.0               NaN   \n",
       "1                         NaN               NaN               4.0   \n",
       "2                         1.0               1.0               3.0   \n",
       "3                         4.0               1.0               6.0   \n",
       "4                         NaN               NaN               6.0   \n",
       "\n",
       "   capillary_refill_time  ...  packed_cell_volume  total_protein  \\\n",
       "0                    2.0  ...                45.0            8.4   \n",
       "1                    1.0  ...                50.0           85.0   \n",
       "2                    1.0  ...                33.0            6.7   \n",
       "3                    2.0  ...                48.0            7.2   \n",
       "4                    2.0  ...                74.0            7.4   \n",
       "\n",
       "   abdominocentesis_appearance  abdomcentesis_total_protein  outcome  \\\n",
       "0                          NaN                          NaN      2.0   \n",
       "1                          2.0                          2.0      3.0   \n",
       "2                          NaN                          NaN      1.0   \n",
       "3                          3.0                          5.3      2.0   \n",
       "4                          NaN                          NaN      2.0   \n",
       "\n",
       "   surgical_lesion  type_of_lesion_25  type_of_lesion_26  type_of_lesion_27  \\\n",
       "0                2              11300                  0                  0   \n",
       "1                2               2208                  0                  0   \n",
       "2                2                  0                  0                  0   \n",
       "3                1               2208                  0                  0   \n",
       "4                2               4300                  0                  0   \n",
       "\n",
       "   cp_data  \n",
       "0        2  \n",
       "1        2  \n",
       "2        1  \n",
       "3        1  \n",
       "4        2  \n",
       "\n",
       "[5 rows x 28 columns]"
      ]
     },
     "execution_count": 3,
     "metadata": {},
     "output_type": "execute_result"
    }
   ],
   "source": [
    "horses_data = pd.read_csv('horse_data.csv', header=None, na_values='?', \n",
    "                        names=['surgery',  'age',  'case_number', 'rectal_temperature', 'pulse', 'respiratory_rate', \n",
    "                               'temperature_of_extremities', 'peripheral_pulse', 'mucous_membranes', 'capillary_refill_time',\n",
    "                               'pain', 'peristalsis', 'abdominal_distension', 'nasogastric_tube', 'nasogastric_reflux',\n",
    "                               'nasogastric_reflux PH', 'rectal_examination', 'abdomen', 'packed_cell_volume', 'total_protein',\n",
    "                               'abdominocentesis_appearance', 'abdomcentesis_total_protein', 'outcome', 'surgical_lesion',\n",
    "                               'type_of_lesion_25', 'type_of_lesion_26', 'type_of_lesion_27', 'cp_data'])\n",
    "horses_data.head()"
   ]
  },
  {
   "cell_type": "code",
   "execution_count": 25,
   "metadata": {},
   "outputs": [
    {
     "data": {
      "text/plain": [
       "(300, 28)"
      ]
     },
     "execution_count": 25,
     "metadata": {},
     "output_type": "execute_result"
    }
   ],
   "source": [
    "horses_data.shape"
   ]
  },
  {
   "cell_type": "markdown",
   "metadata": {},
   "source": [
    "Выбираем столбцы для дальнейшего изучения, например: 'case_number', 'age', 'surgery', 'rectal_temperature', 'pulse', 'mucous_membranes', 'abdominal_distension', 'packed_cell_volume', 'total_protein', 'outcome'"
   ]
  },
  {
   "cell_type": "code",
   "execution_count": 4,
   "metadata": {},
   "outputs": [
    {
     "data": {
      "text/html": [
       "<div>\n",
       "<style scoped>\n",
       "    .dataframe tbody tr th:only-of-type {\n",
       "        vertical-align: middle;\n",
       "    }\n",
       "\n",
       "    .dataframe tbody tr th {\n",
       "        vertical-align: top;\n",
       "    }\n",
       "\n",
       "    .dataframe thead th {\n",
       "        text-align: right;\n",
       "    }\n",
       "</style>\n",
       "<table border=\"1\" class=\"dataframe\">\n",
       "  <thead>\n",
       "    <tr style=\"text-align: right;\">\n",
       "      <th></th>\n",
       "      <th>case_number</th>\n",
       "      <th>age</th>\n",
       "      <th>surgery</th>\n",
       "      <th>rectal_temperature</th>\n",
       "      <th>pulse</th>\n",
       "      <th>mucous_membranes</th>\n",
       "      <th>abdominal_distension</th>\n",
       "      <th>packed_cell_volume</th>\n",
       "      <th>total_protein</th>\n",
       "      <th>outcome</th>\n",
       "    </tr>\n",
       "  </thead>\n",
       "  <tbody>\n",
       "    <tr>\n",
       "      <th>0</th>\n",
       "      <td>530101</td>\n",
       "      <td>1</td>\n",
       "      <td>2.0</td>\n",
       "      <td>38.5</td>\n",
       "      <td>66.0</td>\n",
       "      <td>NaN</td>\n",
       "      <td>4.0</td>\n",
       "      <td>45.0</td>\n",
       "      <td>8.4</td>\n",
       "      <td>2.0</td>\n",
       "    </tr>\n",
       "    <tr>\n",
       "      <th>1</th>\n",
       "      <td>534817</td>\n",
       "      <td>1</td>\n",
       "      <td>1.0</td>\n",
       "      <td>39.2</td>\n",
       "      <td>88.0</td>\n",
       "      <td>4.0</td>\n",
       "      <td>2.0</td>\n",
       "      <td>50.0</td>\n",
       "      <td>85.0</td>\n",
       "      <td>3.0</td>\n",
       "    </tr>\n",
       "    <tr>\n",
       "      <th>2</th>\n",
       "      <td>530334</td>\n",
       "      <td>1</td>\n",
       "      <td>2.0</td>\n",
       "      <td>38.3</td>\n",
       "      <td>40.0</td>\n",
       "      <td>3.0</td>\n",
       "      <td>1.0</td>\n",
       "      <td>33.0</td>\n",
       "      <td>6.7</td>\n",
       "      <td>1.0</td>\n",
       "    </tr>\n",
       "    <tr>\n",
       "      <th>3</th>\n",
       "      <td>5290409</td>\n",
       "      <td>9</td>\n",
       "      <td>1.0</td>\n",
       "      <td>39.1</td>\n",
       "      <td>164.0</td>\n",
       "      <td>6.0</td>\n",
       "      <td>4.0</td>\n",
       "      <td>48.0</td>\n",
       "      <td>7.2</td>\n",
       "      <td>2.0</td>\n",
       "    </tr>\n",
       "    <tr>\n",
       "      <th>4</th>\n",
       "      <td>530255</td>\n",
       "      <td>1</td>\n",
       "      <td>2.0</td>\n",
       "      <td>37.3</td>\n",
       "      <td>104.0</td>\n",
       "      <td>6.0</td>\n",
       "      <td>NaN</td>\n",
       "      <td>74.0</td>\n",
       "      <td>7.4</td>\n",
       "      <td>2.0</td>\n",
       "    </tr>\n",
       "  </tbody>\n",
       "</table>\n",
       "</div>"
      ],
      "text/plain": [
       "   case_number  age  surgery  rectal_temperature  pulse  mucous_membranes  \\\n",
       "0       530101    1      2.0                38.5   66.0               NaN   \n",
       "1       534817    1      1.0                39.2   88.0               4.0   \n",
       "2       530334    1      2.0                38.3   40.0               3.0   \n",
       "3      5290409    9      1.0                39.1  164.0               6.0   \n",
       "4       530255    1      2.0                37.3  104.0               6.0   \n",
       "\n",
       "   abdominal_distension  packed_cell_volume  total_protein  outcome  \n",
       "0                   4.0                45.0            8.4      2.0  \n",
       "1                   2.0                50.0           85.0      3.0  \n",
       "2                   1.0                33.0            6.7      1.0  \n",
       "3                   4.0                48.0            7.2      2.0  \n",
       "4                   NaN                74.0            7.4      2.0  "
      ]
     },
     "execution_count": 4,
     "metadata": {},
     "output_type": "execute_result"
    }
   ],
   "source": [
    "horse_stat = horses_data.filter(['case_number', 'age', 'surgery', 'rectal_temperature', 'pulse', 'mucous_membranes', \n",
    "                                 'abdominal_distension', 'packed_cell_volume', 'total_protein', 'outcome'])\n",
    "horse_stat.head()"
   ]
  },
  {
   "cell_type": "markdown",
   "metadata": {},
   "source": [
    "* ***Анализ столбцов*** "
   ]
  },
  {
   "cell_type": "code",
   "execution_count": 5,
   "metadata": {},
   "outputs": [
    {
     "name": "stdout",
     "output_type": "stream",
     "text": [
      "case_number - 0.0%\n",
      "age - 0.0%\n",
      "surgery - 0.3%\n",
      "rectal_temperature - 20.0%\n",
      "pulse - 8.0%\n",
      "mucous_membranes - 15.7%\n",
      "abdominal_distension - 18.7%\n",
      "packed_cell_volume - 9.7%\n",
      "total_protein - 11.0%\n",
      "outcome - 0.3%\n"
     ]
    }
   ],
   "source": [
    "#Проверяем пропуски\n",
    "\n",
    "for column in horse_stat:\n",
    "    missings = horse_stat[column].isnull().mean()\n",
    "    print(f'{column} - {missings :.1%}')"
   ]
  },
  {
   "cell_type": "code",
   "execution_count": 6,
   "metadata": {},
   "outputs": [
    {
     "data": {
      "text/html": [
       "<div>\n",
       "<style scoped>\n",
       "    .dataframe tbody tr th:only-of-type {\n",
       "        vertical-align: middle;\n",
       "    }\n",
       "\n",
       "    .dataframe tbody tr th {\n",
       "        vertical-align: top;\n",
       "    }\n",
       "\n",
       "    .dataframe thead th {\n",
       "        text-align: right;\n",
       "    }\n",
       "</style>\n",
       "<table border=\"1\" class=\"dataframe\">\n",
       "  <thead>\n",
       "    <tr style=\"text-align: right;\">\n",
       "      <th></th>\n",
       "      <th>rectal_temperature</th>\n",
       "      <th>pulse</th>\n",
       "      <th>packed_cell_volume</th>\n",
       "      <th>total_protein</th>\n",
       "    </tr>\n",
       "  </thead>\n",
       "  <tbody>\n",
       "    <tr>\n",
       "      <th>0</th>\n",
       "      <td>38.5</td>\n",
       "      <td>66.0</td>\n",
       "      <td>45.0</td>\n",
       "      <td>8.4</td>\n",
       "    </tr>\n",
       "    <tr>\n",
       "      <th>1</th>\n",
       "      <td>39.2</td>\n",
       "      <td>88.0</td>\n",
       "      <td>50.0</td>\n",
       "      <td>85.0</td>\n",
       "    </tr>\n",
       "    <tr>\n",
       "      <th>2</th>\n",
       "      <td>38.3</td>\n",
       "      <td>40.0</td>\n",
       "      <td>33.0</td>\n",
       "      <td>6.7</td>\n",
       "    </tr>\n",
       "    <tr>\n",
       "      <th>3</th>\n",
       "      <td>39.1</td>\n",
       "      <td>164.0</td>\n",
       "      <td>48.0</td>\n",
       "      <td>7.2</td>\n",
       "    </tr>\n",
       "    <tr>\n",
       "      <th>4</th>\n",
       "      <td>37.3</td>\n",
       "      <td>104.0</td>\n",
       "      <td>74.0</td>\n",
       "      <td>7.4</td>\n",
       "    </tr>\n",
       "  </tbody>\n",
       "</table>\n",
       "</div>"
      ],
      "text/plain": [
       "   rectal_temperature  pulse  packed_cell_volume  total_protein\n",
       "0                38.5   66.0                45.0            8.4\n",
       "1                39.2   88.0                50.0           85.0\n",
       "2                38.3   40.0                33.0            6.7\n",
       "3                39.1  164.0                48.0            7.2\n",
       "4                37.3  104.0                74.0            7.4"
      ]
     },
     "execution_count": 6,
     "metadata": {},
     "output_type": "execute_result"
    }
   ],
   "source": [
    "horse_stat_m = horse_stat.filter(['rectal_temperature', 'pulse', 'packed_cell_volume', 'total_protein'])\n",
    "horse_stat_m.head()"
   ]
  },
  {
   "cell_type": "code",
   "execution_count": 7,
   "metadata": {},
   "outputs": [
    {
     "data": {
      "text/html": [
       "<div>\n",
       "<style scoped>\n",
       "    .dataframe tbody tr th:only-of-type {\n",
       "        vertical-align: middle;\n",
       "    }\n",
       "\n",
       "    .dataframe tbody tr th {\n",
       "        vertical-align: top;\n",
       "    }\n",
       "\n",
       "    .dataframe thead th {\n",
       "        text-align: right;\n",
       "    }\n",
       "</style>\n",
       "<table border=\"1\" class=\"dataframe\">\n",
       "  <thead>\n",
       "    <tr style=\"text-align: right;\">\n",
       "      <th></th>\n",
       "      <th>rectal_temperature</th>\n",
       "      <th>pulse</th>\n",
       "      <th>packed_cell_volume</th>\n",
       "      <th>total_protein</th>\n",
       "    </tr>\n",
       "  </thead>\n",
       "  <tbody>\n",
       "    <tr>\n",
       "      <th>count</th>\n",
       "      <td>240.000000</td>\n",
       "      <td>276.000000</td>\n",
       "      <td>271.000000</td>\n",
       "      <td>267.000000</td>\n",
       "    </tr>\n",
       "    <tr>\n",
       "      <th>mean</th>\n",
       "      <td>38.167917</td>\n",
       "      <td>71.913043</td>\n",
       "      <td>46.295203</td>\n",
       "      <td>24.456929</td>\n",
       "    </tr>\n",
       "    <tr>\n",
       "      <th>std</th>\n",
       "      <td>0.732289</td>\n",
       "      <td>28.630557</td>\n",
       "      <td>10.419335</td>\n",
       "      <td>27.475009</td>\n",
       "    </tr>\n",
       "    <tr>\n",
       "      <th>min</th>\n",
       "      <td>35.400000</td>\n",
       "      <td>30.000000</td>\n",
       "      <td>23.000000</td>\n",
       "      <td>3.300000</td>\n",
       "    </tr>\n",
       "    <tr>\n",
       "      <th>25%</th>\n",
       "      <td>37.800000</td>\n",
       "      <td>48.000000</td>\n",
       "      <td>38.000000</td>\n",
       "      <td>6.500000</td>\n",
       "    </tr>\n",
       "    <tr>\n",
       "      <th>50%</th>\n",
       "      <td>38.200000</td>\n",
       "      <td>64.000000</td>\n",
       "      <td>45.000000</td>\n",
       "      <td>7.500000</td>\n",
       "    </tr>\n",
       "    <tr>\n",
       "      <th>75%</th>\n",
       "      <td>38.500000</td>\n",
       "      <td>88.000000</td>\n",
       "      <td>52.000000</td>\n",
       "      <td>57.000000</td>\n",
       "    </tr>\n",
       "    <tr>\n",
       "      <th>max</th>\n",
       "      <td>40.800000</td>\n",
       "      <td>184.000000</td>\n",
       "      <td>75.000000</td>\n",
       "      <td>89.000000</td>\n",
       "    </tr>\n",
       "    <tr>\n",
       "      <th>mode</th>\n",
       "      <td>38.000000</td>\n",
       "      <td>48.000000</td>\n",
       "      <td>37.000000</td>\n",
       "      <td>6.500000</td>\n",
       "    </tr>\n",
       "    <tr>\n",
       "      <th>range</th>\n",
       "      <td>5.400000</td>\n",
       "      <td>154.000000</td>\n",
       "      <td>52.000000</td>\n",
       "      <td>85.700000</td>\n",
       "    </tr>\n",
       "    <tr>\n",
       "      <th>STD</th>\n",
       "      <td>0.732289</td>\n",
       "      <td>28.630557</td>\n",
       "      <td>10.419335</td>\n",
       "      <td>27.475009</td>\n",
       "    </tr>\n",
       "    <tr>\n",
       "      <th>variation</th>\n",
       "      <td>0.536247</td>\n",
       "      <td>819.708775</td>\n",
       "      <td>108.562532</td>\n",
       "      <td>754.876145</td>\n",
       "    </tr>\n",
       "  </tbody>\n",
       "</table>\n",
       "</div>"
      ],
      "text/plain": [
       "           rectal_temperature       pulse  packed_cell_volume  total_protein\n",
       "count              240.000000  276.000000          271.000000     267.000000\n",
       "mean                38.167917   71.913043           46.295203      24.456929\n",
       "std                  0.732289   28.630557           10.419335      27.475009\n",
       "min                 35.400000   30.000000           23.000000       3.300000\n",
       "25%                 37.800000   48.000000           38.000000       6.500000\n",
       "50%                 38.200000   64.000000           45.000000       7.500000\n",
       "75%                 38.500000   88.000000           52.000000      57.000000\n",
       "max                 40.800000  184.000000           75.000000      89.000000\n",
       "mode                38.000000   48.000000           37.000000       6.500000\n",
       "range                5.400000  154.000000           52.000000      85.700000\n",
       "STD                  0.732289   28.630557           10.419335      27.475009\n",
       "variation            0.536247  819.708775          108.562532     754.876145"
      ]
     },
     "execution_count": 7,
     "metadata": {},
     "output_type": "execute_result"
    }
   ],
   "source": [
    "#Базовые метрики числовых показателей\n",
    "\n",
    "horse_stat_d = horse_stat_m.describe()\n",
    "\n",
    "metrics = {}\n",
    "for column in horse_stat_m:\n",
    "    metrics[column] = horse_stat_m[column].mode()[0]\n",
    "horse_stat_d = pd.concat([horse_stat_d, pd.DataFrame([metrics], index = ['mode'])])\n",
    "\n",
    "metrics = {}\n",
    "for column in horse_stat_m:\n",
    "    metrics[column] = horse_stat_m[column].max() - horse_stat_m[column].min()\n",
    "horse_stat_d = pd.concat([horse_stat_d, pd.DataFrame([metrics], index = ['range'])])\n",
    "\n",
    "metrics = {}\n",
    "for column in horse_stat_m:\n",
    "    metrics[column] = horse_stat_m[column].std()\n",
    "horse_stat_d = pd.concat([horse_stat_d, pd.DataFrame([metrics], index = ['STD'])])\n",
    "\n",
    "metrics = {}\n",
    "for column in horse_stat_m:\n",
    "    metrics[column] = horse_stat_m[column].var()\n",
    "horse_stat_d = pd.concat([horse_stat_d, pd.DataFrame([metrics], index = ['variation'])])\n",
    "\n",
    "horse_stat_d"
   ]
  },
  {
   "cell_type": "markdown",
   "metadata": {},
   "source": [
    "Заменим числовые значения столбцов 'age', 'surgery', 'mucous_membranes', 'abdominal_distension', 'outcome'. Данные получены из приложенного описания "
   ]
  },
  {
   "cell_type": "code",
   "execution_count": 8,
   "metadata": {},
   "outputs": [
    {
     "data": {
      "text/html": [
       "<div>\n",
       "<style scoped>\n",
       "    .dataframe tbody tr th:only-of-type {\n",
       "        vertical-align: middle;\n",
       "    }\n",
       "\n",
       "    .dataframe tbody tr th {\n",
       "        vertical-align: top;\n",
       "    }\n",
       "\n",
       "    .dataframe thead th {\n",
       "        text-align: right;\n",
       "    }\n",
       "</style>\n",
       "<table border=\"1\" class=\"dataframe\">\n",
       "  <thead>\n",
       "    <tr style=\"text-align: right;\">\n",
       "      <th></th>\n",
       "      <th>case_number</th>\n",
       "      <th>age</th>\n",
       "      <th>surgery</th>\n",
       "      <th>rectal_temperature</th>\n",
       "      <th>pulse</th>\n",
       "      <th>mucous_membranes</th>\n",
       "      <th>abdominal_distension</th>\n",
       "      <th>packed_cell_volume</th>\n",
       "      <th>total_protein</th>\n",
       "      <th>outcome</th>\n",
       "    </tr>\n",
       "  </thead>\n",
       "  <tbody>\n",
       "    <tr>\n",
       "      <th>0</th>\n",
       "      <td>530101</td>\n",
       "      <td>Adult</td>\n",
       "      <td>No</td>\n",
       "      <td>38.5</td>\n",
       "      <td>66.0</td>\n",
       "      <td>NaN</td>\n",
       "      <td>severe</td>\n",
       "      <td>45.0</td>\n",
       "      <td>8.4</td>\n",
       "      <td>died</td>\n",
       "    </tr>\n",
       "    <tr>\n",
       "      <th>1</th>\n",
       "      <td>534817</td>\n",
       "      <td>Adult</td>\n",
       "      <td>Yes</td>\n",
       "      <td>39.2</td>\n",
       "      <td>88.0</td>\n",
       "      <td>pale cyanotic</td>\n",
       "      <td>slight</td>\n",
       "      <td>50.0</td>\n",
       "      <td>85.0</td>\n",
       "      <td>was euthanized</td>\n",
       "    </tr>\n",
       "    <tr>\n",
       "      <th>2</th>\n",
       "      <td>530334</td>\n",
       "      <td>Adult</td>\n",
       "      <td>No</td>\n",
       "      <td>38.3</td>\n",
       "      <td>40.0</td>\n",
       "      <td>pale pink</td>\n",
       "      <td>none</td>\n",
       "      <td>33.0</td>\n",
       "      <td>6.7</td>\n",
       "      <td>lived</td>\n",
       "    </tr>\n",
       "    <tr>\n",
       "      <th>3</th>\n",
       "      <td>5290409</td>\n",
       "      <td>Young</td>\n",
       "      <td>Yes</td>\n",
       "      <td>39.1</td>\n",
       "      <td>164.0</td>\n",
       "      <td>dark cyanotic</td>\n",
       "      <td>severe</td>\n",
       "      <td>48.0</td>\n",
       "      <td>7.2</td>\n",
       "      <td>died</td>\n",
       "    </tr>\n",
       "    <tr>\n",
       "      <th>4</th>\n",
       "      <td>530255</td>\n",
       "      <td>Adult</td>\n",
       "      <td>No</td>\n",
       "      <td>37.3</td>\n",
       "      <td>104.0</td>\n",
       "      <td>dark cyanotic</td>\n",
       "      <td>NaN</td>\n",
       "      <td>74.0</td>\n",
       "      <td>7.4</td>\n",
       "      <td>died</td>\n",
       "    </tr>\n",
       "  </tbody>\n",
       "</table>\n",
       "</div>"
      ],
      "text/plain": [
       "   case_number    age surgery  rectal_temperature  pulse mucous_membranes  \\\n",
       "0       530101  Adult      No                38.5   66.0              NaN   \n",
       "1       534817  Adult     Yes                39.2   88.0    pale cyanotic   \n",
       "2       530334  Adult      No                38.3   40.0        pale pink   \n",
       "3      5290409  Young     Yes                39.1  164.0    dark cyanotic   \n",
       "4       530255  Adult      No                37.3  104.0    dark cyanotic   \n",
       "\n",
       "  abdominal_distension  packed_cell_volume  total_protein         outcome  \n",
       "0               severe                45.0            8.4            died  \n",
       "1               slight                50.0           85.0  was euthanized  \n",
       "2                 none                33.0            6.7           lived  \n",
       "3               severe                48.0            7.2            died  \n",
       "4                  NaN                74.0            7.4            died  "
      ]
     },
     "execution_count": 8,
     "metadata": {},
     "output_type": "execute_result"
    }
   ],
   "source": [
    "horse_stat.loc[horse_stat['age'] == 1, 'age'] = 'Adult'\n",
    "horse_stat.loc[horse_stat['age'] == 9, 'age'] = 'Young'\n",
    "\n",
    "horse_stat.loc[horse_stat['surgery'] == 1, 'surgery'] = 'Yes'\n",
    "horse_stat.loc[horse_stat['surgery'] == 2, 'surgery'] = 'No'\n",
    "\n",
    "horse_stat.loc[horse_stat['mucous_membranes'] == 1, 'mucous_membranes'] = 'normal pink'\n",
    "horse_stat.loc[horse_stat['mucous_membranes'] == 2, 'mucous_membranes'] = 'bright pink'\n",
    "horse_stat.loc[horse_stat['mucous_membranes'] == 3, 'mucous_membranes'] = 'pale pink'\n",
    "horse_stat.loc[horse_stat['mucous_membranes'] == 4, 'mucous_membranes'] = 'pale cyanotic'\n",
    "horse_stat.loc[horse_stat['mucous_membranes'] == 5, 'mucous_membranes'] = 'bright red / injected'\n",
    "horse_stat.loc[horse_stat['mucous_membranes'] == 6, 'mucous_membranes'] = 'dark cyanotic'\n",
    "\n",
    "horse_stat.loc[horse_stat['abdominal_distension'] == 1, 'abdominal_distension'] = 'none'\n",
    "horse_stat.loc[horse_stat['abdominal_distension'] == 2, 'abdominal_distension'] = 'slight'\n",
    "horse_stat.loc[horse_stat['abdominal_distension'] == 3, 'abdominal_distension'] = 'moderate'\n",
    "horse_stat.loc[horse_stat['abdominal_distension'] == 4, 'abdominal_distension'] = 'severe'\n",
    "\n",
    "horse_stat.loc[horse_stat['outcome'] == 1, 'outcome'] = 'lived'\n",
    "horse_stat.loc[horse_stat['outcome'] == 2, 'outcome'] = 'died'\n",
    "horse_stat.loc[horse_stat['outcome'] == 3, 'outcome'] = 'was euthanized'\n",
    "\n",
    "horse_stat.head()"
   ]
  },
  {
   "cell_type": "code",
   "execution_count": 9,
   "metadata": {},
   "outputs": [
    {
     "name": "stdout",
     "output_type": "stream",
     "text": [
      "Мода age: Adult\n",
      "Мода surgery: Yes\n",
      "Мода mucous_membranes: normal pink\n",
      "Мода abdominal_distension: none\n",
      "Мода outcome: lived\n"
     ]
    }
   ],
   "source": [
    "#Для количественных показателей возможно получить моду\n",
    "print('Мода age:', horse_stat.age.mode()[0])\n",
    "print('Мода surgery:', horse_stat.surgery.mode()[0])\n",
    "print('Мода mucous_membranes:', horse_stat.mucous_membranes.mode()[0])\n",
    "print('Мода abdominal_distension:', horse_stat.abdominal_distension.mode()[0])\n",
    "print('Мода outcome:', horse_stat.outcome.mode()[0])"
   ]
  },
  {
   "cell_type": "markdown",
   "metadata": {},
   "source": [
    "***Краткое описание данных***"
   ]
  },
  {
   "cell_type": "markdown",
   "metadata": {},
   "source": [
    "* ***case_number*** - категориальный идентификатор лошади, может встречаться в данных несколько раз, если лошадь проходила повторное лечение (таких случаев около 6% из всех наблюдений). Пропуски в данных отсутствуют."
   ]
  },
  {
   "cell_type": "code",
   "execution_count": 34,
   "metadata": {},
   "outputs": [
    {
     "data": {
      "text/plain": [
       "1    0.943662\n",
       "2    0.056338\n",
       "Name: case_number, dtype: float64"
      ]
     },
     "execution_count": 34,
     "metadata": {},
     "output_type": "execute_result"
    }
   ],
   "source": [
    "horse_stat['case_number'].value_counts().value_counts(normalize=True)"
   ]
  },
  {
   "cell_type": "markdown",
   "metadata": {},
   "source": [
    "* ***age*** - категориальные значения. Согласно описанию категории, есть два варианта значения возраста - '1':\"взрослая лошадь\" или '2':\"молодая < 6 месяцев\", но '2' не встречается ни разу, но есть многократно повторяющееся значение '9' - сделаем предположение, что '9' подразумевает под собой '2'. Пропуски в данных отсутствуют."
   ]
  },
  {
   "cell_type": "markdown",
   "metadata": {},
   "source": [
    "* ***surgery*** - указывает, была ли проведена операция для лечения: 1 = да, была операция. 2 = лечение без операции. Категориальный признак, пропуски составляют 0.3%. Операция для лечения проведена в 60% наблюдаемых случаев."
   ]
  },
  {
   "cell_type": "code",
   "execution_count": 35,
   "metadata": {},
   "outputs": [
    {
     "data": {
      "text/plain": [
       "1.0    0.602007\n",
       "2.0    0.397993\n",
       "Name: surgery, dtype: float64"
      ]
     },
     "execution_count": 35,
     "metadata": {},
     "output_type": "execute_result"
    }
   ],
   "source": [
    "horse_stat['surgery'].value_counts(normalize = True)"
   ]
  },
  {
   "cell_type": "markdown",
   "metadata": {},
   "source": [
    "* ***rectal_temperature*** - температура лошади, числовой показатель. Согласно пояснительным данным, нормальная температура - 37.8. Размах изучаемых значений составил 5,4 градуса, что выглядит вполне достоверно. Пропуски составляют 20% значений."
   ]
  },
  {
   "cell_type": "markdown",
   "metadata": {},
   "source": [
    "* ***pulse*** - пульс лошади, числовой показатель. Согласно пояснительным данным, нормальный пульс взрослой лошади - 30-40 ударов в минуту. Размах данных очень велик, есть экстремальные (подозрительные, возможно ошибочные) выбросы по максимальным значениям(184 уд. в мин), но сторонние источники данных подтверждают, что такие показатели возможны при критических состояниях здоровья. 8% данных отсутствует."
   ]
  },
  {
   "cell_type": "markdown",
   "metadata": {},
   "source": [
    "* ***mucous_membranes*** - цвет слизистых оболочек, категориальный признак. Показатели 'normal pink' и 'pale pink' можно расценивать как варианты нормы, то есть 46% лошадей имеют отклонения от нормы по данному показателю. 15,7% данных отсутствует."
   ]
  },
  {
   "cell_type": "code",
   "execution_count": 44,
   "metadata": {},
   "outputs": [
    {
     "data": {
      "text/plain": [
       "normal pink              0.312253\n",
       "pale pink                0.229249\n",
       "pale cyanotic            0.162055\n",
       "bright pink              0.118577\n",
       "bright red / injected    0.098814\n",
       "dark cyanotic            0.079051\n",
       "Name: mucous_membranes, dtype: float64"
      ]
     },
     "execution_count": 44,
     "metadata": {},
     "output_type": "execute_result"
    }
   ],
   "source": [
    "horse_stat.mucous_membranes.value_counts(normalize=True)"
   ]
  },
  {
   "cell_type": "markdown",
   "metadata": {},
   "source": [
    "* ***abdominal_distension*** - важный показатель здоровья лошади, содержит информацию о наличии и степени вздутия живота, категориальный признак. Почти 70% лошадей, проходящих лечение, имели в той или иной степени вздутие живота. \n",
    "18,7% данных отсутствует."
   ]
  },
  {
   "cell_type": "code",
   "execution_count": 45,
   "metadata": {},
   "outputs": [
    {
     "data": {
      "text/plain": [
       "none        0.311475\n",
       "moderate    0.266393\n",
       "slight      0.266393\n",
       "severe      0.155738\n",
       "Name: abdominal_distension, dtype: float64"
      ]
     },
     "execution_count": 45,
     "metadata": {},
     "output_type": "execute_result"
    }
   ],
   "source": [
    "horse_stat.abdominal_distension.value_counts(normalize=True)"
   ]
  },
  {
   "cell_type": "markdown",
   "metadata": {},
   "source": [
    "* ***packed_cell_volume*** - показатель уровня эритроцитов в крови, числовой признак. Нормальный показатель от 30 до 50. В целом у большинства лошадей показатели в пределах нормы. 9,7% данных отсутствует."
   ]
  },
  {
   "cell_type": "markdown",
   "metadata": {},
   "source": [
    "* ***total_protein*** - показатель уровня общего белка, числовой признак. Нормальный показатель от 6 до 7,5 грамм на децилитр. В данных присутствует высокое максимальное значение (89) - сложно понять, допустимо ли такое значение для живой лошади. Возможно, при внесении данных показания могли заносить в других единицах измерения (грамм на литр). Для оценки признака пригодилось бы пояснение поставщика данных или эксперта по лошадям. 11% данных отсутствует."
   ]
  },
  {
   "cell_type": "markdown",
   "metadata": {},
   "source": [
    "* ***outcome*** - собственно итог лечения. По результатам лечения выжило 60% пациентов. 0,3% данных отсутствует."
   ]
  },
  {
   "cell_type": "code",
   "execution_count": 46,
   "metadata": {},
   "outputs": [
    {
     "data": {
      "text/plain": [
       "lived             0.595318\n",
       "died              0.257525\n",
       "was euthanized    0.147157\n",
       "Name: outcome, dtype: float64"
      ]
     },
     "execution_count": 46,
     "metadata": {},
     "output_type": "execute_result"
    }
   ],
   "source": [
    "horse_stat.outcome.value_counts(normalize=True)"
   ]
  },
  {
   "cell_type": "markdown",
   "metadata": {},
   "source": [
    "***Задание 2. Работа с выбросами***\n",
    "\n",
    "В выбранных числовых столбцах найти выбросы, выдвинуть гипотезы об их причинах и проинтерпретировать результаты. Принять и обосновать решение о дальнейшей работе с ними."
   ]
  },
  {
   "cell_type": "markdown",
   "metadata": {},
   "source": [
    "***Порассуждаем о возможных выбросах*** "
   ]
  },
  {
   "cell_type": "code",
   "execution_count": 61,
   "metadata": {},
   "outputs": [
    {
     "name": "stdout",
     "output_type": "stream",
     "text": [
      "rectal_temperature\n",
      "20     39.9\n",
      "44     35.4\n",
      "54     40.3\n",
      "75     39.7\n",
      "80     36.4\n",
      "91     40.3\n",
      "99     39.6\n",
      "118    36.5\n",
      "141    36.0\n",
      "238    36.1\n",
      "251    36.6\n",
      "259    40.8\n",
      "281    40.0\n",
      "298    36.5\n",
      "Name: rectal_temperature, dtype: float64\n",
      "Количество выбросов 14\n",
      "*********************************************\n",
      "pulse\n",
      "3      164.0\n",
      "41     150.0\n",
      "55     160.0\n",
      "255    184.0\n",
      "275    150.0\n",
      "Name: pulse, dtype: float64\n",
      "Количество выбросов 5\n",
      "*********************************************\n",
      "packed_cell_volume\n",
      "4      74.0\n",
      "144    75.0\n",
      "151    75.0\n",
      "Name: packed_cell_volume, dtype: float64\n",
      "Количество выбросов 3\n",
      "*********************************************\n",
      "total_protein\n",
      "Series([], Name: total_protein, dtype: float64)\n",
      "Количество выбросов 0\n",
      "*********************************************\n"
     ]
    }
   ],
   "source": [
    "for stats in horse_stat_m:\n",
    "    q1 = horse_stat_m[stats].quantile(0.25)\n",
    "    q3 = horse_stat_m[stats].quantile(0.75)\n",
    "    iqr = q3 - q1\n",
    "    lower_bound = q1 - (1.5 * iqr) \n",
    "    upper_bound = q3 + (1.5 * iqr)\n",
    "    outliers = horse_stat_m.loc[(horse_stat_m[stats] < lower_bound)|\n",
    "                                       (horse_stat_m[stats] > upper_bound), stats]\n",
    "    print(stats, outliers, f'Количество выбросов {outliers.count()}', sep='\\n')\n",
    "    print('*' * 45)\n",
    "    "
   ]
  },
  {
   "cell_type": "markdown",
   "metadata": {},
   "source": [
    "* ***rectal_temperature*** - выбросы не стоит исключать из исследования, так как и минимальная (35.4), и максимальная (40.8) температура может наблюдаться у нездоровой лошади. Вероятнее всего, что в данных ошибки нет."
   ]
  },
  {
   "cell_type": "markdown",
   "metadata": {},
   "source": [
    "* ***pulse*** - несмотря на высокие значения показателя, данные выбросы также не стоит исключать из исследования, так как дополнительно просмотренные источники подтверждают, что при неблагополучном течении болезни, пульс может принимать и такие значения (о чем также свидетельствует неблагополучный исход лечения почти всех лошадей с таким пульсом, кроме подозрительно здоровой лошади \"5288249\")"
   ]
  },
  {
   "cell_type": "code",
   "execution_count": 18,
   "metadata": {},
   "outputs": [
    {
     "data": {
      "text/html": [
       "<div>\n",
       "<style scoped>\n",
       "    .dataframe tbody tr th:only-of-type {\n",
       "        vertical-align: middle;\n",
       "    }\n",
       "\n",
       "    .dataframe tbody tr th {\n",
       "        vertical-align: top;\n",
       "    }\n",
       "\n",
       "    .dataframe thead th {\n",
       "        text-align: right;\n",
       "    }\n",
       "</style>\n",
       "<table border=\"1\" class=\"dataframe\">\n",
       "  <thead>\n",
       "    <tr style=\"text-align: right;\">\n",
       "      <th></th>\n",
       "      <th>case_number</th>\n",
       "      <th>age</th>\n",
       "      <th>surgery</th>\n",
       "      <th>rectal_temperature</th>\n",
       "      <th>pulse</th>\n",
       "      <th>mucous_membranes</th>\n",
       "      <th>abdominal_distension</th>\n",
       "      <th>packed_cell_volume</th>\n",
       "      <th>total_protein</th>\n",
       "      <th>outcome</th>\n",
       "    </tr>\n",
       "  </thead>\n",
       "  <tbody>\n",
       "    <tr>\n",
       "      <th>3</th>\n",
       "      <td>5290409</td>\n",
       "      <td>Young</td>\n",
       "      <td>Yes</td>\n",
       "      <td>39.1</td>\n",
       "      <td>164.0</td>\n",
       "      <td>dark cyanotic</td>\n",
       "      <td>severe</td>\n",
       "      <td>48.0</td>\n",
       "      <td>7.2</td>\n",
       "      <td>died</td>\n",
       "    </tr>\n",
       "    <tr>\n",
       "      <th>39</th>\n",
       "      <td>5277409</td>\n",
       "      <td>Young</td>\n",
       "      <td>Yes</td>\n",
       "      <td>39.2</td>\n",
       "      <td>146.0</td>\n",
       "      <td>NaN</td>\n",
       "      <td>NaN</td>\n",
       "      <td>NaN</td>\n",
       "      <td>NaN</td>\n",
       "      <td>died</td>\n",
       "    </tr>\n",
       "    <tr>\n",
       "      <th>41</th>\n",
       "      <td>5288249</td>\n",
       "      <td>Young</td>\n",
       "      <td>No</td>\n",
       "      <td>39.0</td>\n",
       "      <td>150.0</td>\n",
       "      <td>NaN</td>\n",
       "      <td>NaN</td>\n",
       "      <td>47.0</td>\n",
       "      <td>8.5</td>\n",
       "      <td>lived</td>\n",
       "    </tr>\n",
       "    <tr>\n",
       "      <th>55</th>\n",
       "      <td>5282839</td>\n",
       "      <td>Young</td>\n",
       "      <td>Yes</td>\n",
       "      <td>38.6</td>\n",
       "      <td>160.0</td>\n",
       "      <td>bright red / injected</td>\n",
       "      <td>severe</td>\n",
       "      <td>38.0</td>\n",
       "      <td>NaN</td>\n",
       "      <td>died</td>\n",
       "    </tr>\n",
       "    <tr>\n",
       "      <th>255</th>\n",
       "      <td>5294539</td>\n",
       "      <td>Young</td>\n",
       "      <td>Yes</td>\n",
       "      <td>38.8</td>\n",
       "      <td>184.0</td>\n",
       "      <td>normal pink</td>\n",
       "      <td>moderate</td>\n",
       "      <td>33.0</td>\n",
       "      <td>3.3</td>\n",
       "      <td>died</td>\n",
       "    </tr>\n",
       "    <tr>\n",
       "      <th>275</th>\n",
       "      <td>5297159</td>\n",
       "      <td>Young</td>\n",
       "      <td>Yes</td>\n",
       "      <td>38.8</td>\n",
       "      <td>150.0</td>\n",
       "      <td>dark cyanotic</td>\n",
       "      <td>slight</td>\n",
       "      <td>50.0</td>\n",
       "      <td>6.2</td>\n",
       "      <td>died</td>\n",
       "    </tr>\n",
       "  </tbody>\n",
       "</table>\n",
       "</div>"
      ],
      "text/plain": [
       "     case_number    age surgery  rectal_temperature  pulse  \\\n",
       "3        5290409  Young     Yes                39.1  164.0   \n",
       "39       5277409  Young     Yes                39.2  146.0   \n",
       "41       5288249  Young      No                39.0  150.0   \n",
       "55       5282839  Young     Yes                38.6  160.0   \n",
       "255      5294539  Young     Yes                38.8  184.0   \n",
       "275      5297159  Young     Yes                38.8  150.0   \n",
       "\n",
       "          mucous_membranes abdominal_distension  packed_cell_volume  \\\n",
       "3            dark cyanotic               severe                48.0   \n",
       "39                     NaN                  NaN                 NaN   \n",
       "41                     NaN                  NaN                47.0   \n",
       "55   bright red / injected               severe                38.0   \n",
       "255            normal pink             moderate                33.0   \n",
       "275          dark cyanotic               slight                50.0   \n",
       "\n",
       "     total_protein outcome  \n",
       "3              7.2    died  \n",
       "39             NaN    died  \n",
       "41             8.5   lived  \n",
       "55             NaN    died  \n",
       "255            3.3    died  \n",
       "275            6.2    died  "
      ]
     },
     "execution_count": 18,
     "metadata": {},
     "output_type": "execute_result"
    }
   ],
   "source": [
    "horse_stat[horse_stat['pulse'] > 140]"
   ]
  },
  {
   "cell_type": "markdown",
   "metadata": {},
   "source": [
    "* ***packed_cell_volume*** - также не исключаем, так как значения выбросов могут встречаться у нездорового животного."
   ]
  },
  {
   "cell_type": "code",
   "execution_count": 19,
   "metadata": {},
   "outputs": [
    {
     "data": {
      "text/html": [
       "<div>\n",
       "<style scoped>\n",
       "    .dataframe tbody tr th:only-of-type {\n",
       "        vertical-align: middle;\n",
       "    }\n",
       "\n",
       "    .dataframe tbody tr th {\n",
       "        vertical-align: top;\n",
       "    }\n",
       "\n",
       "    .dataframe thead th {\n",
       "        text-align: right;\n",
       "    }\n",
       "</style>\n",
       "<table border=\"1\" class=\"dataframe\">\n",
       "  <thead>\n",
       "    <tr style=\"text-align: right;\">\n",
       "      <th></th>\n",
       "      <th>case_number</th>\n",
       "      <th>age</th>\n",
       "      <th>surgery</th>\n",
       "      <th>rectal_temperature</th>\n",
       "      <th>pulse</th>\n",
       "      <th>mucous_membranes</th>\n",
       "      <th>abdominal_distension</th>\n",
       "      <th>packed_cell_volume</th>\n",
       "      <th>total_protein</th>\n",
       "      <th>outcome</th>\n",
       "    </tr>\n",
       "  </thead>\n",
       "  <tbody>\n",
       "    <tr>\n",
       "      <th>4</th>\n",
       "      <td>530255</td>\n",
       "      <td>Adult</td>\n",
       "      <td>No</td>\n",
       "      <td>37.3</td>\n",
       "      <td>104.0</td>\n",
       "      <td>dark cyanotic</td>\n",
       "      <td>NaN</td>\n",
       "      <td>74.0</td>\n",
       "      <td>7.4</td>\n",
       "      <td>died</td>\n",
       "    </tr>\n",
       "    <tr>\n",
       "      <th>35</th>\n",
       "      <td>528812</td>\n",
       "      <td>Adult</td>\n",
       "      <td>No</td>\n",
       "      <td>NaN</td>\n",
       "      <td>104.0</td>\n",
       "      <td>pale pink</td>\n",
       "      <td>moderate</td>\n",
       "      <td>73.0</td>\n",
       "      <td>8.4</td>\n",
       "      <td>was euthanized</td>\n",
       "    </tr>\n",
       "    <tr>\n",
       "      <th>49</th>\n",
       "      <td>529642</td>\n",
       "      <td>Adult</td>\n",
       "      <td>No</td>\n",
       "      <td>37.2</td>\n",
       "      <td>84.0</td>\n",
       "      <td>bright red / injected</td>\n",
       "      <td>slight</td>\n",
       "      <td>73.0</td>\n",
       "      <td>5.5</td>\n",
       "      <td>died</td>\n",
       "    </tr>\n",
       "    <tr>\n",
       "      <th>144</th>\n",
       "      <td>534519</td>\n",
       "      <td>Adult</td>\n",
       "      <td>Yes</td>\n",
       "      <td>37.1</td>\n",
       "      <td>84.0</td>\n",
       "      <td>dark cyanotic</td>\n",
       "      <td>severe</td>\n",
       "      <td>75.0</td>\n",
       "      <td>81.0</td>\n",
       "      <td>was euthanized</td>\n",
       "    </tr>\n",
       "    <tr>\n",
       "      <th>151</th>\n",
       "      <td>529399</td>\n",
       "      <td>Adult</td>\n",
       "      <td>Yes</td>\n",
       "      <td>39.3</td>\n",
       "      <td>NaN</td>\n",
       "      <td>dark cyanotic</td>\n",
       "      <td>slight</td>\n",
       "      <td>75.0</td>\n",
       "      <td>NaN</td>\n",
       "      <td>died</td>\n",
       "    </tr>\n",
       "    <tr>\n",
       "      <th>217</th>\n",
       "      <td>5279441</td>\n",
       "      <td>Adult</td>\n",
       "      <td>Yes</td>\n",
       "      <td>38.0</td>\n",
       "      <td>76.0</td>\n",
       "      <td>NaN</td>\n",
       "      <td>NaN</td>\n",
       "      <td>71.0</td>\n",
       "      <td>11.0</td>\n",
       "      <td>lived</td>\n",
       "    </tr>\n",
       "    <tr>\n",
       "      <th>231</th>\n",
       "      <td>530028</td>\n",
       "      <td>Adult</td>\n",
       "      <td>No</td>\n",
       "      <td>39.5</td>\n",
       "      <td>92.0</td>\n",
       "      <td>dark cyanotic</td>\n",
       "      <td>none</td>\n",
       "      <td>72.0</td>\n",
       "      <td>6.4</td>\n",
       "      <td>died</td>\n",
       "    </tr>\n",
       "  </tbody>\n",
       "</table>\n",
       "</div>"
      ],
      "text/plain": [
       "     case_number    age surgery  rectal_temperature  pulse  \\\n",
       "4         530255  Adult      No                37.3  104.0   \n",
       "35        528812  Adult      No                 NaN  104.0   \n",
       "49        529642  Adult      No                37.2   84.0   \n",
       "144       534519  Adult     Yes                37.1   84.0   \n",
       "151       529399  Adult     Yes                39.3    NaN   \n",
       "217      5279441  Adult     Yes                38.0   76.0   \n",
       "231       530028  Adult      No                39.5   92.0   \n",
       "\n",
       "          mucous_membranes abdominal_distension  packed_cell_volume  \\\n",
       "4            dark cyanotic                  NaN                74.0   \n",
       "35               pale pink             moderate                73.0   \n",
       "49   bright red / injected               slight                73.0   \n",
       "144          dark cyanotic               severe                75.0   \n",
       "151          dark cyanotic               slight                75.0   \n",
       "217                    NaN                  NaN                71.0   \n",
       "231          dark cyanotic                 none                72.0   \n",
       "\n",
       "     total_protein         outcome  \n",
       "4              7.4            died  \n",
       "35             8.4  was euthanized  \n",
       "49             5.5            died  \n",
       "144           81.0  was euthanized  \n",
       "151            NaN            died  \n",
       "217           11.0           lived  \n",
       "231            6.4            died  "
      ]
     },
     "execution_count": 19,
     "metadata": {},
     "output_type": "execute_result"
    }
   ],
   "source": [
    "horse_stat[horse_stat['packed_cell_volume'] > 70]"
   ]
  },
  {
   "cell_type": "markdown",
   "metadata": {},
   "source": [
    "***Как итог*** - значения выбросов лучше не исключать, так как сам датасет предоставляет нам данные о ***больных*** животных, из чего следует, что некоторые из этих данных могут быть далеки от нормы (но в то же время здесь нет абсолютно некорректных данных, которые бы однозначно говорили об их ошибочности)."
   ]
  },
  {
   "cell_type": "markdown",
   "metadata": {},
   "source": [
    "***Задание 3. Работа с пропусками***\n",
    "\n",
    "Рассчитать количество пропусков для всех выбранных столбцов. Принять и обосновать решение о методе работы с пропусками по каждому столбцу, сформировать датафрейм, в котором пропуски будут отсутствовать."
   ]
  },
  {
   "cell_type": "markdown",
   "metadata": {},
   "source": [
    "В каких данных были пропуски - \n",
    "* surgery - 0.3%\n",
    "* rectal_temperature - 20.0%\n",
    "* pulse - 8.0%\n",
    "* mucous_membranes - 15.7%\n",
    "* abdominal_distension - 18.7%\n",
    "* packed_cell_volume - 9.7%\n",
    "* total_protein - 11.0%\n",
    "* outcome - 0.3%"
   ]
  },
  {
   "cell_type": "markdown",
   "metadata": {},
   "source": [
    "Чем заменим -\n",
    "\n",
    "* surgery - мало пропусков, используем моду\n",
    "* rectal_temperature - много пропусков, смоделируем нормальное распределение вокруг среднего (значения среднего арифметического, моды и медианы практически равны)\n",
    "* pulse - высокий показатель стандартного отклонения, чтобы избежать искажения данных, применим заполнение средними значениями \n",
    "* mucous_membranes - добавим показатель N/A, так как данные категориальные.\n",
    "* abdominal_distension - добавим показатель N/A, так как данные категориальные.\n",
    "* packed_cell_volume - близкое значение медианы и среднего арифметического, чтобы избежать искажения данных, применим заполнение средними значениями\n",
    "* total_protein - чтобы избежать искажения данных, применим заполнение медианными значениями\n",
    "* outcome - мало пропусков, используем моду"
   ]
  },
  {
   "cell_type": "code",
   "execution_count": 20,
   "metadata": {},
   "outputs": [],
   "source": [
    "horse_stat['surgery'].fillna(horse_stat['surgery'].mode()[0], inplace = True)"
   ]
  },
  {
   "cell_type": "code",
   "execution_count": 21,
   "metadata": {},
   "outputs": [],
   "source": [
    "random_values = {}\n",
    "for index in horse_stat[horse_stat['rectal_temperature'].isnull()].index:\n",
    "    random_values[index] = np.random.normal(horse_stat['rectal_temperature'].mean(), horse_stat['rectal_temperature'].std())\n",
    "horse_stat['rectal_temperature'].fillna(random_values, inplace = True)"
   ]
  },
  {
   "cell_type": "code",
   "execution_count": 22,
   "metadata": {},
   "outputs": [],
   "source": [
    "horse_stat['pulse'].fillna(horse_stat['pulse'].mean(), inplace = True)"
   ]
  },
  {
   "cell_type": "code",
   "execution_count": 24,
   "metadata": {},
   "outputs": [],
   "source": [
    "horse_stat['mucous_membranes'].fillna('N/A', inplace = True)"
   ]
  },
  {
   "cell_type": "code",
   "execution_count": 25,
   "metadata": {},
   "outputs": [],
   "source": [
    "horse_stat['abdominal_distension'].fillna('N/A', inplace = True)"
   ]
  },
  {
   "cell_type": "code",
   "execution_count": 26,
   "metadata": {},
   "outputs": [],
   "source": [
    "horse_stat['packed_cell_volume'].fillna(horse_stat['packed_cell_volume'].mean(), inplace = True)"
   ]
  },
  {
   "cell_type": "code",
   "execution_count": 28,
   "metadata": {},
   "outputs": [],
   "source": [
    "horse_stat['total_protein'].fillna(horse_stat['total_protein'].median(), inplace = True)"
   ]
  },
  {
   "cell_type": "code",
   "execution_count": 27,
   "metadata": {},
   "outputs": [],
   "source": [
    "horse_stat['outcome'].fillna(horse_stat['outcome'].mode()[0], inplace = True)"
   ]
  },
  {
   "cell_type": "markdown",
   "metadata": {},
   "source": [
    "Повторно проверим на пропуски"
   ]
  },
  {
   "cell_type": "code",
   "execution_count": 29,
   "metadata": {},
   "outputs": [
    {
     "name": "stdout",
     "output_type": "stream",
     "text": [
      "case_number - 0.0%\n",
      "age - 0.0%\n",
      "surgery - 0.0%\n",
      "rectal_temperature - 0.0%\n",
      "pulse - 0.0%\n",
      "mucous_membranes - 0.0%\n",
      "abdominal_distension - 0.0%\n",
      "packed_cell_volume - 0.0%\n",
      "total_protein - 0.0%\n",
      "outcome - 0.0%\n"
     ]
    }
   ],
   "source": [
    "for column in horse_stat:\n",
    "    missings = horse_stat[column].isnull().mean()\n",
    "    print(f'{column} - {missings :.1%}')"
   ]
  }
 ],
 "metadata": {
  "kernelspec": {
   "display_name": "Python 3",
   "language": "python",
   "name": "python3"
  },
  "language_info": {
   "codemirror_mode": {
    "name": "ipython",
    "version": 3
   },
   "file_extension": ".py",
   "mimetype": "text/x-python",
   "name": "python",
   "nbconvert_exporter": "python",
   "pygments_lexer": "ipython3",
   "version": "3.8.3"
  }
 },
 "nbformat": 4,
 "nbformat_minor": 4
}
