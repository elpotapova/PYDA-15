{
 "cells": [
  {
   "cell_type": "markdown",
   "metadata": {},
   "source": [
    "***Задание 1***"
   ]
  },
  {
   "cell_type": "code",
   "execution_count": 1,
   "metadata": {},
   "outputs": [
    {
     "name": "stdout",
     "output_type": "stream",
     "text": [
      "Фраза 1 длиннее фразы 2\n"
     ]
    }
   ],
   "source": [
    "phrase_1 = 'Насколько проще было бы писать программы, если бы не заказчики'\n",
    "phrase_2 = '640Кб должно хватить для любых задач. Билл Гейтс (по легенде)'\n",
    "\n",
    "if len(phrase_1) > len(phrase_2):\n",
    "    print('Фраза 1 длиннее фразы 2')\n",
    "elif len(phrase_1) < len(phrase_2):\n",
    "    print('Фраза 2 длиннее фразы 1')\n",
    "elif len(phrase_1) == len(phrase_2):\n",
    "    print('Фразы равной длины')"
   ]
  },
  {
   "cell_type": "code",
   "execution_count": 3,
   "metadata": {},
   "outputs": [
    {
     "name": "stdout",
     "output_type": "stream",
     "text": [
      "Фраза 2 длиннее фразы 1\n"
     ]
    }
   ],
   "source": [
    "phrase_1 = '640Кб должно хватить для любых задач. Билл Гейтс (по легенде)'\n",
    "phrase_2 = 'Насколько проще было бы писать программы, если бы не заказчики'\n",
    "\n",
    "if len(phrase_1) > len(phrase_2):\n",
    "    print('Фраза 1 длиннее фразы 2')\n",
    "elif len(phrase_1) < len(phrase_2):\n",
    "    print('Фраза 2 длиннее фразы 1')\n",
    "elif len(phrase_1) == len(phrase_2):\n",
    "    print('Фразы равной длины')"
   ]
  },
  {
   "cell_type": "code",
   "execution_count": 12,
   "metadata": {},
   "outputs": [
    {
     "name": "stdout",
     "output_type": "stream",
     "text": [
      "Фразы равной длины\n"
     ]
    }
   ],
   "source": [
    "phrase_1 = 'Насколько проще было бы писать программы, если бы не заказчики'\n",
    "phrase_2 = 'Насколько проще было бы писать программы, если бы не заказчики'\n",
    "\n",
    "if len(phrase_1) > len(phrase_2):\n",
    "    print('Фраза 1 длиннее фразы 2')\n",
    "elif len(phrase_1) < len(phrase_2):\n",
    "    print('Фраза 2 длиннее фразы 1')\n",
    "elif len(phrase_1) == len(phrase_2):\n",
    "    print('Фразы равной длины')"
   ]
  },
  {
   "cell_type": "markdown",
   "metadata": {},
   "source": [
    "***Задание 2***"
   ]
  },
  {
   "cell_type": "code",
   "execution_count": 2,
   "metadata": {},
   "outputs": [
    {
     "name": "stdout",
     "output_type": "stream",
     "text": [
      "Високосный год\n"
     ]
    }
   ],
   "source": [
    "year = 2020\n",
    "\n",
    "if year % 400 == 0:\n",
    "    print('Високосный год')\n",
    "elif year % 4 == 0:\n",
    "    print('Високосный год')\n",
    "elif year % 100 == 0:\n",
    "    print('Обычный год')\n",
    "else:\n",
    "    print('Обычный год')"
   ]
  },
  {
   "cell_type": "markdown",
   "metadata": {},
   "source": [
    "***Задание 3***"
   ]
  },
  {
   "cell_type": "code",
   "execution_count": 2,
   "metadata": {},
   "outputs": [
    {
     "name": "stdout",
     "output_type": "stream",
     "text": [
      "Введите день:30\n",
      "Введите месяц:Май\n",
      "Ваш знак зодиака:Близнецы\n"
     ]
    }
   ],
   "source": [
    "date = int(input('Введите день:'))\n",
    "month = input('Введите месяц:')\n",
    "\n",
    "if (date >= 21 and  date <= 31 and month == 'Март') or (date >= 1 and date <= 20 and month == 'Апрель'):\n",
    "    print('Ваш знак зодиака:Овен')\n",
    "\n",
    "elif (date >= 21 and date <= 30 and month == 'Апрель') or (date >= 1 and date <= 21 and month == 'Май'):\n",
    "    print('Ваш знак зодиака:Телец')\n",
    "\n",
    "elif (date >= 22 and date <= 31 and month == 'Май') or (date >= 1 and date <= 21 and month == 'Июнь'):\n",
    "    print('Ваш знак зодиака:Близнецы')\n",
    "\n",
    "elif (date >= 22 and date <= 30 and month == 'Июнь') or (date >= 1 and date <= 22 and month == 'Июль'):\n",
    "    print('Ваш знак зодиака:Рак')\n",
    "\n",
    "elif (date >= 23 and date <= 31 and month == 'Июль') or (date >= 1 and date <= 22 and month == 'Август'):\n",
    "    print('Ваш знак зодиака:Лев')\n",
    "\n",
    "elif (date >= 23 and date <= 31 and month == 'Август') or (date >=1 and date <= 22 and month == 'Сентябрь'):\n",
    "    print('Ваш знак зодиака:Дева')\n",
    "\n",
    "elif (date >= 23 and date <= 30 and month == 'Сентябрь') or (date >=1 and date <=22 and month == 'Октябрь'):\n",
    "    print('Ваш знак зодиака:Весы')\n",
    "\n",
    "elif (date >= 23 and date <= 31 and month == 'Октябрь') or (date >= 1 and date <= 22 and month=='Ноябрь'):\n",
    "    print('Ваш знак зодиака:Скорпион')\n",
    "\n",
    "elif (date >= 23 and date <= 30 and month=='Ноябрь') or (date >= 1 and date <= 21 and month == 'Декабрь'):\n",
    "    print('Ваш знак зодиака:Стрелец')\n",
    "\n",
    "elif (date >= 22 and date <= 31 and month == 'Декабрь') or (date >= 1 and date <= 20 and month == 'Январь'):\n",
    "    print('Ваш знак зодиака:Козерог')\n",
    "\n",
    "elif (date >= 21 and date <= 31 and month == 'Январь') or (date >= 1 and date <= 19 and month == 'Февраль'):\n",
    "    print('Ваш знак зодиака:Водолей')\n",
    "\n",
    "elif (date >= 20 and date <= 29 and month == 'Февраль') or (date >= 1 and date <= 20 and month == 'Март'):\n",
    "    print('Ваш знак зодиака:Рыбы')"
   ]
  },
  {
   "cell_type": "markdown",
   "metadata": {},
   "source": [
    "***Задание 4***"
   ]
  },
  {
   "cell_type": "code",
   "execution_count": 15,
   "metadata": {},
   "outputs": [
    {
     "name": "stdout",
     "output_type": "stream",
     "text": [
      "Упаковка для лыж\n"
     ]
    }
   ],
   "source": [
    "width = 45\n",
    "length = 205\n",
    "height = 45\n",
    "\n",
    "if width < 15 and length < 15 and height < 15:\n",
    "    print('Коробка №1')\n",
    "elif length > 200 and width > 0 and height > 0:\n",
    "    print ('Упаковка для лыж')\n",
    "elif (width > 15 and width < 50) or (length > 15 and length < 50) or (height > 15 and height < 50):\n",
    "    print('Коробка №2')\n",
    "else:\n",
    "    print('Стандартная коробка №3')"
   ]
  }
 ],
 "metadata": {
  "kernelspec": {
   "display_name": "Python 3",
   "language": "python",
   "name": "python3"
  },
  "language_info": {
   "codemirror_mode": {
    "name": "ipython",
    "version": 3
   },
   "file_extension": ".py",
   "mimetype": "text/x-python",
   "name": "python",
   "nbconvert_exporter": "python",
   "pygments_lexer": "ipython3",
   "version": "3.8.3"
  }
 },
 "nbformat": 4,
 "nbformat_minor": 4
}
